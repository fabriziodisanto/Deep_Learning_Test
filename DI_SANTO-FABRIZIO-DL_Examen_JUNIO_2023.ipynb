{
 "nbformat": 4,
 "nbformat_minor": 0,
 "metadata": {
  "colab": {
   "provenance": []
  },
  "kernelspec": {
   "name": "python3",
   "language": "python",
   "display_name": "Python 3 (ipykernel)"
  }
 },
 "cells": [
  {
   "cell_type": "markdown",
   "metadata": {
    "id": "ftXnmgdtOuZs"
   },
   "source": [
    "# Universidad de Buenos Aires\n",
    "# Deep Learning - Examen\n",
    "# Junio 2023\n",
    "\n"
   ]
  },
  {
   "cell_type": "markdown",
   "source": [
    "El examen comienza al momento de recibir este correo y la ventana de entrega estará abierta hasta el domingo 25 de junio a las 20:00hs. Toda comunicación con otros alumnos respecto del examen y la resolución de los ejercicios, queda estrictamente prohibida. Los exámenes serán comparados desde el punto de vista de la redacción, de los resultados y del código para determinar que el trabajo fue 100% individual y único. El examen es a libro abierto, pudiendo utilizar los contenidos vistos en clase y otra bibliografía. Todas las soluciones deben ser originales y si se toman ideas de fuentes externas deben ser correctamente citas incluyendo el correspondiente link o página de libro.\n",
    "\n",
    "El formato de entrega debe ser un “link a un colab” (compartir a las siguientes direcciones: maxit1992@gmail.com y lelectronfou@gmail.com ) o un “link a un notebook en un github público”.\n",
    "\n",
    "**Consideraciones a tener en cuenta:**\n",
    "- Se entregará 1 solo colab para la totalidad del examen.\n",
    "- Renombrar el archivo de la siguiente manera: **APELLIDO-NOMBRE-DL-Examen ABRIL 2023.ipynb**\n",
    "- Los códigos deben poder ejecutarse.\n",
    "- Los resultados, cómo el código y las explicaciones deben quedar guardados y visualizables en el correspondiente link.\n",
    "- Prestar atención a las consignas, responder las preguntas cuando corresponda.\n",
    "\n"
   ],
   "metadata": {
    "id": "aEx1gM2sG4OP"
   }
  },
  {
   "cell_type": "code",
   "execution_count": 344,
   "outputs": [],
   "source": [
    "# Imports\n",
    "import torch\n",
    "import numpy as np\n",
    "import pandas as pd\n",
    "from torch.utils.data import Dataset, DataLoader\n",
    "from sklearn import metrics"
   ],
   "metadata": {
    "collapsed": false,
    "ExecuteTime": {
     "end_time": "2023-06-20T17:28:01.253397700Z",
     "start_time": "2023-06-20T17:28:01.101012500Z"
    }
   }
  },
  {
   "cell_type": "markdown",
   "metadata": {
    "id": "nlfSxrehmuYW"
   },
   "source": [
    "## Ejercicio 1\n",
    "\n"
   ]
  },
  {
   "cell_type": "markdown",
   "metadata": {
    "id": "FY2z-GSXoFvq"
   },
   "source": [
    "Dado el grafo de cómputo de la siguiente imagen:"
   ]
  },
  {
   "cell_type": "markdown",
   "source": [
    "![Graph.jpg](data:image/jpeg;base64,/9j/4AAQSkZJRgABAQEAcwBzAAD/4QAiRXhpZgAATU0AKgAAAAgAAQESAAMAAAABAAEAAAAAAAD/2wBDAAIBAQIBAQICAgICAgICAwUDAwMDAwYEBAMFBwYHBwcGBwcICQsJCAgKCAcHCg0KCgsMDAwMBwkODw0MDgsMDAz/2wBDAQICAgMDAwYDAwYMCAcIDAwMDAwMDAwMDAwMDAwMDAwMDAwMDAwMDAwMDAwMDAwMDAwMDAwMDAwMDAwMDAwMDAz/wAARCAEPASwDASIAAhEBAxEB/8QAHwAAAQUBAQEBAQEAAAAAAAAAAAECAwQFBgcICQoL/8QAtRAAAgEDAwIEAwUFBAQAAAF9AQIDAAQRBRIhMUEGE1FhByJxFDKBkaEII0KxwRVS0fAkM2JyggkKFhcYGRolJicoKSo0NTY3ODk6Q0RFRkdISUpTVFVWV1hZWmNkZWZnaGlqc3R1dnd4eXqDhIWGh4iJipKTlJWWl5iZmqKjpKWmp6ipqrKztLW2t7i5usLDxMXGx8jJytLT1NXW19jZ2uHi4+Tl5ufo6erx8vP09fb3+Pn6/8QAHwEAAwEBAQEBAQEBAQAAAAAAAAECAwQFBgcICQoL/8QAtREAAgECBAQDBAcFBAQAAQJ3AAECAxEEBSExBhJBUQdhcRMiMoEIFEKRobHBCSMzUvAVYnLRChYkNOEl8RcYGRomJygpKjU2Nzg5OkNERUZHSElKU1RVVldYWVpjZGVmZ2hpanN0dXZ3eHl6goOEhYaHiImKkpOUlZaXmJmaoqOkpaanqKmqsrO0tba3uLm6wsPExcbHyMnK0tPU1dbX2Nna4uPk5ebn6Onq8vP09fb3+Pn6/9oADAMBAAIRAxEAPwD9/KKKKACiiigAooooAKKKKACiiigAooooAKKKKACiignAoAKKZJOsSMzEKq8kk8CvKPib+3D8MvhXqX9n3viSHUdXyVGnaTC+oXW70KQhtp/3iK58RiqNCPNWkorzdjow+FrV5ctGDk/JNnrWaM186yftya54lP8AxSnwj8bahG3SbVjFpC49dsrbvyFQyftK/Ge7/wCPX4V+HbfP/P34kH67ENee88wn2W5ekZNffax6CyHGfaUY+sop/dc+kM0Zr5vj/aV+M1n/AMfXwr8PXH/Xp4lX/wBnQVYj/bl1vw0f+Kr+EnjbT416zaT5WrLj12xNuH4ihZ5hPtNr1jJL77A8hxf2VGXpKLf3XufRFFeTfDH9t/4Z/FbUPsFj4kg0/Vs4OnatE+n3efQJMF3H/dJr1ZJ1kRWU7lboQetejh8VRrx5qMlJeTuefiMLWoS5a0HF+aaH0UZorc5wooooAKKKKACiiigAooooAKKKKACiiigAooooAKKKKACiiigAooooAKKKKACiiigAooooAGOBXjfx3/a5sfhrrX/CM+HNPl8X+NrhR5el2r4S1B4D3EnSNR78n0pv7XXx31L4c6bpPhfwosdx448ZSta6arcpYxgZlu5P9mNemepIHrXN/Br4M6d8HtAaGB5L7Vr5vO1LU5/muL+Y/edm64z0HQCvBzDMKjqPDYZ2a+KXa/Ref4LzPfy/L6aprE4pXT+GO1/NvpG+mmrfVWOXvvgz4s+OEi3XxT8TyXVqx3L4e0R3tNPgHULI4IkmIyQckA13XgT4W+HfhlYfZvD+i6bpEQG0/ZoArN9W6n8TW9t+tKMCvNp4WnGXO1eXd6v73/wx6dTF1JR9mtI9lovuX/Dhgk/eo25paK6DlE24pfmz1oJxRmgDn/Hnwr8N/E2y+z+IND03Vo8YH2iBWdfo33h+BrhbH4NeLvge7XXwt8UTW9qp3N4d1t2u7CYf3Y5D88P4EivWutJtrnqYWnKXOtJd1o/vR008VUjHkesez1X3MrfAX9rix+KGst4a8QabceD/ABvbqTLpV4wK3IHG+3k6SoevHI7ivYh0r5z+M/wX0/4x6CkM0s2n6vYt5+mapbHbdadMOVdG9M9VPBFdR+yR8ctU+Imjal4b8VeXH408Iyra6iUG1L1D/q7lB6OOSOxzXpZfmFRVFhsTq38Mu/k+z/B+R5mYZfTdN4nCqyXxR3tfqn1XTXVPvc9kooor3jwQooooAKKKKACiiigAooooAKKKKACiiigAooooAKKKKACiiigAooooAKKKKACiiigD5b0WT/hOf2zPiPrVz+8Phm3tfD1kG58hSgnlI9NxZM/SvTAMV5paR/8ACvP20/HWjXX7uPxlZ22vaezcC4ZFEM6j3Xahx1wSa9JBya+Ow+809+eV/vf6WPssVa1Pl25I2/8AAV+t7+YrDmvjD41/8Febf4FfEH4heB9W8C3DePfDuqadp/hbRY78eZ4wS+YLFNEdvyhSH38Hbs96+0K+YP2g/wBhG4+MP/BRn4M/GWO38Otpfw606/tr8XO4X0sso/cNGAhVgmW5Zl254zXbT5b+8cVTmt7p6r8bP2s/Av7LfgTR9d+KHiTSfA9vq7pbI15IzR/aTGXMSsqnJAVucDha0fgt+0r4D/aJ+HsnizwV4o0vxD4bhd0k1G2ciCMoMvksBjaOSelc5+13+zJqH7UXg7TdJ0/x54g8Ayafefa2u9JtrSeW5XYy+WwuIpFC/NnIAOVHOOKyPB37G954Y/ZG8Y/C3UPHuv8AiabxZpWoaYdc1C3t4rq1F1A8W4Lbxxp8m/I4B460WjbzFeV/I8jk/wCCuHhv4l/tteFfhr8LdW8M+O9D1Twvr2r6nfWEsk81peWCoYoFVRyHJbOAc44rO/4Jyf8ABRf4hftA+IviY3xY8Kx+B/D/AIPu7h4NTuraS1hihjCEo7uNoKA5O4hvmHHFcL+wl/wS3+MfwG/ar+EfjTxtc/CKPQ/hX4T1XwiieF7e4gvdRimSMW9zOXTbJKxDbxlQmOC5Y4+tP28f2U/+Gwv2PPiH8MNP1KHwzdeNtPe2W/SDcscpZWDOqkFwdoB5zg1rL2a91feZx9o1zP7jofgB+1t8Nf2p7TUJvh3400LxdHpLrHef2fPva3Lbtu5SAQDtbBxg4Nei18Df8Edf+CYnjj9hLx9441zx3b+Dze69p9hp1reaL4g1PUpLpIDNnzkvAFjA3LtEefvMD0FffNZVIxUrRd0aU5ScbyVmB6V5jqNy3w+/bZ+HmqW2UXxlaXeh3qjgTGOPzomPrtw2P9416celeZC0/wCFl/tu+CdPtv3lv4EsbrWL5xyIZZl8mJPqRuP4VxYi96fLvzxt/wCBK/4Xv5HdhbWqc23JO/8A4C7fja3mfUoooor7E+NCiiigAooooAKKKKACiiigAooooAKKKKACiiigAooooAKKKKACiiigAooooAKKKKAPI/2sPgDc/GPw5p2qaBPHp/jbwnc/b9EuyPlZ8YeCT1jkXgj1we1cP8GPjda/FGG5sLy3bR/FejnytV0if5ZrVx1YD+KM9Qw4r6UIryz49fsp6H8ary31iGe58PeLLFcWetWB8u4THRH7SJ/stkV4eYZdP2jxOG+J/FHZSt1v0ktuzWj7nu5fmVP2aw2K+FfDLrG/RrrF/enquqcW6mlcmvLNY8XfEn9nmVY/HXhybxd4fXhfEPhm2aWSFexuLX769MlkyOfwro/AXx/8GfEuPOjeItNuJR963kl8i4T2aKTDj8RXlxxUOb2c/dl2ej/4Pqro9WWEqcvtIe9HvHVf8D0dmdlQRmmpKsq5Vgw9Qc0pbFdByhtoC0Bs+tI8qxrlmVR6scUALjFLmuL8e/tBeC/hov8AxOfEWm28zfdt4pPtFxJ7LFHudvwFc7o3ir4lftDv5fgfw7J4P8PtwfEHiW3Mcsw9be1+8fZnwP5VzyxUOb2cPel2Wr/4Hq7I6o4Opy+0n7se8tF/wfRXZtfGn42w/C+K10+xtZNb8Wa03laTo9v8010543N/djHUseOK7v8AZS+A158H/DF9qOvzw33jLxNP9t1i5jHyqx+7Ah/uIOB+dTfAX9lTQ/gjc3GrPNeeIPFeoLi91vUW8y5lB/gTtHGOyrgV6nXqZfl1RT+s4n4ukekfNvq39yWi6s8rMMypun9Ww3w/ak95W2SXSK7bt6vsiiiivcPCCiiigAooooAKKKKACiiigAooooAKKKKACiiigAooooAKKKKACiiigAooooAKKKKACqutC4bSbkWckMN35TeS8ylo0fB2lgCCVz156UazrVr4e0ye8vrmC0tLZDJLNK4RI1HJJJ44rznGrftBDLLdaH4KkIIU5ivdZX37xwt/30w9Aa569bl9yOsnsl+fkvM6KNFy9+WkVu/0835H51/F79t39ovxT8ev+Ffx65DpWoXmo/2fajQ4BHFc5kMYkjkJZmU4PIbHFfoUP2NfBHifwPpNh4r0TT/EWrWNskc2rzx4vZ5cfNIZVw+Sc966TUf2ePCGpeOvDfiRtFs01bwpG8OmzRoF+zowIK4HUDJI9Cc12wGBXgZVkNSjOrLHT9rzPTm1svR6Xv8AkfRZvxDTrwoxwFNUeVe9y6Ny73WtrfmzwG8/4J8aDYNu8OeMPiF4WIOVjs9aaSEf8AlDce2apyfsUeMbU/6D8avFkfp9p0+3uf54r6Kor0ZZHgntC3o2vyaPMjnuOW87+qi/zTPnWL9ifxjdf8f3xq8Wy+v2bT7e3/lmsn4nfsY6J4B+HOseItd174k/EBtHtnvJNPm1wwrOiDLKixhADtycE84r6gpk0C3ETJIoeNgQysMhh3BFTPIsG4tRjr0u3Kz9G2XHP8YpJylpfWyUb/OKTPif9l39s79l+xuYV0fSbHwfrMzBS2o2O64Z8nA847iT+PevtWyuY761jmiYSRzKHRh/EDyDXwT8IP8AgkndfDr49eJPF8n9mX1noup/avDOmXeZIL2M/OfO7grnap/vLuII4P2z8PPiFZ+OtOm8pGs9QsGEN9p82FnsZMZ2svoRyp6MMEV5/DdTGRpunjoRg7+6oq17bvt+ttT0OKKeAdVVcvqSqKy5nJ3s3su/rfrodHRRRX1B8qFFFFABRRRQAUUUUAFFFFABRRRQAUUUUAFFFFABRRRQAUUUUAFFFFABRRRQAUUUZ4oAM4rB8efELTvh7pi3F9JIzytst7aFTJPdOeiRoOWJrO8e/FOPw9fro+lW7az4luU3w2ETf6lTwJJm/wCWcfueTg4BNReAfhXJpOof23r90Na8Szj57gjENmD/AMsoE/hQdMn5j1JrlqVpSfs6O/V9F/m/L7zqp0Yxj7Stt0XV/wCS8/uM/R/h9qHxI1SHWPGMfl28LCWy0ENvgtj1V5+0so645VT0yRmvQwoUUoorSjRjTWmre76szrVpVHrstl0QUUUVsYhRRRQAUUUUAJtFcf8AEH4Yvrl/Hrei3K6T4mtE2xXQH7u6Qc+TOB9+PP4rnIrsaKzqU41I8sjSnUlTlzROT+G/xNXxiZtPv7Z9J8RaeAL7TpGy0fo8bdHjbqGH44PFdZmuX+Ivwzh8cRw3VvcTaXrlhlrHUYMeZbt6EHh4z/EjZBFU/AHxIn1HVG0HxBDDpvia1Te8SEiC+QcGaAtyyeqnlc4OepxhUlCXs6vyffyfn+fTsbTpxnH2lL5rt6d1+XXudpRQGzRXUcoUUUUAFFFFABRRRQAUUUUAFFFFABRRRQAUUUUAFFFFABQTiob2+h062kmnljhhiG53kYKqgdyTXh/jP9vjwzZatNpXg/S9e+I2rQko6aDAJLSF/SS4YhF98biPSuXFY2hh1etJL836LdnVhcDXxLtRi3bfsvV7L5nupbBo3f5zXzFJ8Qvj18RC0g/4Qn4e2cv3Igsmq3yD/bJ2xhv93IqpL8GfHWuN5mr/ABg8YTSN1SzigtYl+gVM/ma8yWeJ/wAKlJ+btH83f8D1I5Hb+LWjHyV5fkmvxPqgnArz7X/iLqPjHXJtC8H+VJNbtsv9WkXda2B7qv8Az0k/2RwO5rxG4/Zcmv4mW6+IfxFmZgQSNYZOD7AYqHQf2YNW8F6bHZ6D8TvHOkW9v/q40nikVO/RkOfx61zVc2xM7JUml1tJX+W1vU6KWU4aOrrJvpeLt897+n/DH0t8P/hzp/w90+WO1Elxd3j+deXtwd9zeyf3pH6nHQDoowAAK6ADFfL0EXxx8FL/AMSvx54e8Txx9INe0vyWk+ssJyPwWtPSf25dc8B/ufiZ8O9c0RE4fV9EH9qaYB3ZsYljX6qTXVRznDQShUi6a81p96uvvZz1slxM2505RqPyev3OzfyTPo6iuf8Ah38VfDvxa8Px6p4b1rT9ZsZB/rbWYSBfYjqp9jiugr2qdSM480HdPqjw6lOUJOM1ZrowoooqiQooooAKKKKACiiigArn/iD8OrH4h6VHDdNLb3VpJ59le252XFlKOjo3b0I6MCQQQas+NfHmjfDnQJtU17VLHSNOtxmS4uplijX8Sf0rwbXP20vEnxPumtfhP4Q/tWzB2t4h19nstLPvEqgyy/UACvPx2Ow1FezrO7f2Vq38lr8z0cDgcVWftKKsl9p6JfN6fLr2PU/BfxEv9F1+Lw14sWODV5QfsN6g22urov8AdP8ADKOpjPODkZFdnfa3Z6Wm66urW2XsZZVT+Zr5U8R/A3xx8Y4Y28efEbUZFSQTJYaFAtlbW7jkFXwZCR0DZH0pdK/Yr8DpGratBqXiK8x81zqV/LK7/UbsfpXk082xPwwpXXRykk7eaSl/W569TKcK/enVs+qjFtfK/L/W2h9JXXxc8K2LbZvEvh+I+j6jCv8ANqsWfxI8Paj/AMe+u6NP6eXfRNn8mr58t/2SfhtbD/kTdDk/66Qb/wCdQXn7H3w1uuvhPTY8/wDPINH/AOgkVX9qY3+SH/gT/wDkTP8AsvA/8/J/+Ar/AOSPqCK4WdQ0bK6kZBVs0/dzXycn7Imh6A+/w3rnizwu45UWGqy7B/wFiQavWt58bvhQN2j+I9D+IVhHz9j1+M2d5j0WeIbWb/eUD3raGdTj/GpO3eL5vw0f3Jmcslpy/gVk/KScfx1X3tH1JRXiPwv/AG4/DvinWotB8VWeofD/AMUuQg0/WlEcdy3/AEwnB2Sr09Dz0r2yOTzFVlIZW5BHcV6uFxlHER5qMr/p6rdfM8jFYOth5claLX5P0ezXoOooorpOYKKKKACiiigAooooACcVxHx4+POh/s/+DG1bWJJJJJn8iysoF33N/MfuxRr1LH9K7O6nW2t3kkYLHGCzMewHU18l/DK5b9pX4s6l8TtTQyaTp9xLpvhW2fmOKGNisl0B03SMDg+leVmmOlRjGlS+OW3klu36fm0etleBhXlKrW+CFr923sl69+iTFl+HXir9pnUV1n4nXl1p+hth7HwhYXDRW8S5yGupFIaV8HBXIUfz9P8ADvhvT/CWlR2Ol2Nrp9nCu1IbaIRov4Cr60pOK8Slh4wbm9ZPdvVv+uy0ParYmU4qC0itorRL5fq7vzE20bahbUrdL5bVpoRcyKXWLeN7KOpA64HrUxbFdBzi7c0YpM0bqAFxTXXcNrAMrcEEcEVC+qW8d9HatNCtzIpZIi43sB1IHUgVYBzQB5f42/ZosZ9ZfxD4M1C68DeLkO9L/TTtguD/AHZ4P9XIp78Z967b9n39qe88ReLD4H8eWUOheNoELwNGT9j1qMf8tYGPfuU6itlhxXEfHX4Rx/Fjwjst5PsPiDS3F7o+oJ8slncpypB/unGCOhBrmip4aXtsL849JfLo+zXzudUpQxUVRxXopdY/5x7p/KzPpAHIorzX9k/43N8e/gvp+sXUItdatXfTdYte9tewnbKv4nDDPZhXpVfV4evCtTjVhtJXR8niKE6NWVGpvF2fyCiiitjEKKKKADNcD+0L8fdL/Z/8FLqV5HLfX95J9l03ToOZ9QuD92NB/M9hXeucLXyh4VkPx9/aP8SeNr8mbS/Cdw+geHoG5SIp/wAfE4H95mwAfQV5ea4ydGChS+ObsvLu/kvxsetlOChWnKpW+CCu/Psvm9/K43wz8GdY+K/iGLxh8VriPWNX3ebp+hof+JXoaHooTpJL6u2ec47Y9XhhSGJUjVY41GFVRtUD2FOXrSk4FeLRoRp7at7t7t+bPZrYidRq+iWyWiS7JBtoximlsCl3VsYC0EZqvqWqW+jadPeXlxDa2lrG0s00ziOOJFGSzMeAAOSTVPwf400j4heGrPWtA1TTtb0fUIxNa31hcpcW1yh/iSRCVYe4JFAGptpNtG6lBoAxfG3gDRfiRoUum67ptrqdnMMGOZASvup6qfcEGvPfCvxB179ifV7e11a81DxF8K7mRYoru4YzXnhok4Akbq8H+0eVr1yqur6Ra69plxY3sEd1Z3kbQzRSLuWRGGCCPeuepRfN7Wi+Wa2f6Puv6Wp0U6y5fY1lzQe6/Vdn5/foetaZqMGr2EN1ayxz29wgkjkRtyupGQQasV88/sMeJrrwnf8Ai74W6hPLcS+BriKXTJZDlptOuQXhGe5jIZD6DbX0MDmvpMDiliaEatrN7rs1o19583mGEeGryo3uls+6aun80wooorsOMKKKKACiiigDif2ktSudI+AHjK6s9wuoNHuXi2nncI2xivJ/2bdOt9K+APg2C12/Z10i3ddvTLIGb/x4mvoLxDo8PiHQrywuVDW95C0EgIzlWBB/nXyv+y7d3XgW01b4Z60zLrXge4aGAv1vLB2LQTD1+U7T6EYr5vNU44ynN7Si4r1unb5r8j6TKWp4OpTjvGSk/SzV/k/zPXK4f9pf4vN8AP2e/G3jhbFtSfwnot1qq2oO37QYYmcJnsCRgnsM12ynAqHVdKttc0y4s7y3hurS6jaGaGVAySowwysDwQQcEGojvqaPY/Kf9h39ob4iftPf8FYPgr4w+IWpfDm8n8RfB/VNY0y18J3Ekn9m21zPbSrb3YcnE6ZwSvB54GK9e/bl/wCCg3xI+BX7T174X8P/ABO+DfhvSYFgKafr/hfWL7UE3jJ3S26mI57Y6d6+qPgv+wl8H/2d/Faa74H+HPhXwvrEaTRLeafYrDMqTFTKoYc7W2rkdOBXp114d0++uPOmsLKaX+/JArN+ZFbyqxcrpaWMI058tm9T5U/4Kffty+Iv2OP2aPC/iDw3qnhW38SeJLyC0gfU9Nur2G5Zo97+Tbw4kZsZIBIwOtfLPjH/AILYfGPxJ/wSUvvixoXw8vD4qS/m0268SaRHF/ZWiNBqEMHmTW9w3mDzlYqEAYqzjPSv0n+OH7OPgX9pTwnDofjzwto/irSLeZbiK11C3EscUi9GXPQj1FJ8Pv2bfAPws+HNx4P8P+EdA0vwvdTtczaVDZp9lllZgxdoyMEllBye4BpRqQUbNa3HKnNvR6WPzH/al/ad+KXiT/gop8BvF+i+HNB+EfjebwF4ljSx+I96gtoY08kmQ/Z2IYyquUUMPvDOMV99/wDBNz9qvUv21P2NfBvxG1rS7XSdX1uGRLyC1YtbNLFK0bPCTyY225B9+/Wum+Of7GHwr/aY1S0vfH3gPw34svLC1extptRs1meCB2RnjUn7qsyISB12iu58EeB9H+GvhLT9B0DTbPR9F0qFbezsrSIRQ20Y6KqjgAUqlSMopJahTpyUm29DVpGpc1ifEXx5p/wy8Falr2qS+VY6bC0rnux7KPUk4A+tc8pRjFylsjohFykoxWrMr9in/Qfix8bLG3/48Y/E8VyoH3fOltIml/Hd1r6IrxX9hT4b6p4N+EF1rXiCFrfxF471KbxHfwsObUz7fLh/4BGqjHYkivaq9bJacoYOCkrXu7drttL7meVndSM8bPld7WV+7SSb+bQUUUV6h5QUUUUARXoLWcwX7xQgflXyr+xxiP4T3cLf8fVvreoR3OevmfaHPP4EV9XN92vlLxFbt+zD+0xqFreL5Xg34lXP2vT7rpHZaljEkDenmcMCepzXz+dRcJ0sQ/hV0/LmtZ/erfM+hyOXPTq4dfE7SXny3uvud/kerUHpTQcU7rXObn5Ff8FLv+Ct3x0+Bn/BRHxD8PfBt5Z+G9B8J2+lSadaXlnZfZ/ErXBLTNNPcyJIq87V+zhiNhzgmvtX/gor8WfGHgH4BeGdU8NeKfHngnVr66T7VN4T8Dx+LrhsxBjG8DMoRAx++DyeK958a/BPwb8SdRt7zxF4T8Oa7eWoAhn1DToriSIA5G1nUkYPpXTxD7OuI8xgDAC8YFbOpHSy2MY05a3e58h/s3fEXxN8Tf8Agn58QtQ8WeKPG3i3Uls9SiW98U+DE8KXqoLfhBaozAoMnD55yfSvhr/gmP8Ats/FrwLafA/wL4F8eeEfi7D4k8MXom8CCxTTT4UktwWgM94NzhZCSCzjHoCK/Z28to9Rt5IbhVnimUo6SDcrqeCCD1Fc/wCFvg54R8DavJqGi+F/D+kX8sYie5stPigldB0Usqg4HpTjWSTTW4SpNtNPY+Af2rf26fj34M+J/wALvBHjjX/AP7Ls/irT9T1XUdeWRPEtgXtpEW3slllWNA0oYsRjcAOMmv0E+F+sTeIPhzod9c31rqlxeWMMst5bRmOG6YoCZEU8qrdQD0Bp/jT4a+HfiRbQQ+ItB0fXobV/NhTULOO5WJv7yhwcH3FbFvbx2cCRQxrHHGoVEUbVUDgAColJNKyKjFpttj6RqXdWL4/8e6X8MvB1/r2tXC2um6dGZJXPU+iqO7E4AA6k1jKSinKTskbQjKUlGKu2ct8HB9r/AOChviOS2/1Nn4HtoLzHaZ7svHn38sH8K+m1PFeF/sQfDjUtO8O65458Q2zWviL4gXa38sDfetLVF2W0B/3UyT7ua90AxXp5JSlHC88tOZuVuyb0/Cx5ueVIyxXLF3UEo37tLX8b28gooor1zxwooooAKKKKACvG/wBp39mq5+Jt1Y+KvCt5HovjzQFP2G7cZhvI+rW047xt69jzXslBGa58VhaeIpulVWj+9eafRrodGFxVTDVVVpPVfc11TXVPqfMPwu/aCtfFWrSeHfElnJ4U8bWPy3WlXrbPOIOPMgc8Sxk9Ctei5x610vxe/Z/8KfHPS1tvEmk2940X+ouV/d3NsfVJF+ZTz2NeL6n+zt8WPgvI3/CE+ItP8caDHzHo/iImG8hH92O7B+b23rx3Jr52rhsXh9JL2ke63+cevqr+h9JSxWExOsZezl2l8Pyl09H956IG5oryA/tWv4UuZrXxl4I8WeGb2zYJcfZrY6vbxtj/AJ624b68qOK1dH/bB+GutD5PFum28gODHdB7eRT7q6giuWOPw70c0n2ej+52Z0yy7ErVQbXdar71dHpVFchb/H7wPdRb4/GHhsr738Y/maz9S/am+HekIzXHjLQVC9dtwH/9BzWn1ygtXNfejNYPEPRQl9zO/JxSbq8l/wCGyvCury+V4fsfFPim4bhF0zRbh439P3jKqfm1XbTSPjj8XiE07QdF+GOlzcG91addT1Daf4lgjIRGx2ZuKmOMhPSgnN/3Vf8AHZfNlywU4a12oL+87fhu/kjrPiN8UtB+E+hSahr2owWMKj5EY5lnPZUQcsx9AK5X4XfBzX/2o/Fun+LPG+nzaL4L0qYXWieHp1xNfSKcpc3I7AdVQ/U16D8J/wBirwt8PtYj1zV5b3xl4oHzHVdZfznRvWOP7kY9Ao/GvYguK9DD5VUrSU8XpFa8q1u/7z6+i07tnn4jNqVGLhg7uT0c3pb/AArp6vXskJGuxadRRX0R82FFFFABRRRQAVzfxZ+FOifGrwJfeHfEFmt5pt8uGXOGjYcq6HqrKeQR0rpKKipTjOLhNXT3RdOpKnJTg7Napo+R73V/F/7IVxHpvjaO88UeCg3l2Pie1hMk9kn8KXka5PHTzBwepr0zwn4y0nx1pEd9o2o2eqWcgyJbaUSL+OOn417RcW0d3A0csaSRyDayOoZWHoQa+BP24vit8Ff2e/HF9Dotx4t8OePofmkg8OI1rbyMRkGUSL5LA+qgmvksypf2bT9tzr2faTs15J9fJPXzPr8sqPNKvsVTfte8VdPza6ebWnkfU26jdXzN+yV8Ufj58YPg7b+L4fDvhvxdpN1cSwW0Et6um6g6xkDeXK+WwJyM4ByuelejXHx+8UeGH8vxJ8JvG2lyjq1kYdTh/B4myf8AvmuejmMKlKNVxlFS1TcXb70mvxOjEZZUp1ZUVKMpRdmlJX08m0/wPVAaCcV5G/7Yvh+yO288P+PrNv7reGbyT/0BDTk/a10++H+geD/iHfem3QJ48/8AfYWtP7Qw/wDMjL+zsT1gz1rdQDk8CvL4fiR8VPFy/wDFOfBzUo42+7c67rNvYBB6mIbmP0BrS0v9l/4p/E4+Z428fW3huwk66T4WtdjgejXUhLH8FHsa0hWqVNKNOUvlyr75W/C5nKjTp616sY/Pmf3Rv+NiX4oftBeG/hVi1urmTUdam4ttI09PtF7ct2AjXJHUcnAqD4X/ALOHiD45eLtN8YfFC0jsdO02RbrRvCu/zEtZOqzXJHDyDsvRTXrHwe/Zk8G/A+EtoWkxC+l5m1C5Y3F5OeeWlbLHr6134XBr0MPlE5yU8Y00tora/m+v4L1PPxGcQpxcMEmm95Pe3kto+ur80CLsGKWiivoD54KKKKACiiigAooooAKKKKACvlf/AIKaftS/EH9nr4ebfBfhu9kjvoys/iBVEsWm54+5z83oSMV9UV5z8QLaP4k/ErS/DXyzafpO3VdUQjcrEHEETD/aOWx6KK83NqVWrhpUqM3CUtE1vr/WvWx6mT1qVLFRrVqanGOrT20/rTpc+bf+CJHiW+8XfBfxpealeXF/fXGu+dPPPIXkldolJLE8kmu8/wCCnmt3Xwh+AcfjLQdJ0S61DSNSgFwl9p8dzDPbvuV0cMOmdvIIINe9eA/hV4d+GU+pN4f0ex0f+1phc3aWsYjSWTGNxUcZxWP+0h8DrH9o74P6t4P1G4ls7PVlRXmiALx7XDAj34rzYZRWpZP9SUr1FFpPz1aep6lTOaFbOvr7jy03JNx8tE1pufKX7EP7Snwh/bC1yPQ9U+EHhnTfFMcfmM0ehwXFq+Mktv2fJ0/i6k19e6V8DPBehMrWXhLw3ZsnKmHTYU2/TC15V8LfgJ4d/YTurQeHbUw+E9Y8qz1WaX95NbXI+WK4Z+Ttcnaw+6p2txzXvwYNW2S4SpCh7PGqLqre0UvT19dPwMc+xlKeIdTAOUaT2Tk36+npqMgtY7WLZEixoOiqMAU8Lilor3krbHzt29WFFFFABRRRQAUUUUAFFFFABRRVbVtUt9F0+a7u54ra1tkMkssjbVjUDJJPtQ2krsaTbshniDxBZ+F9HuNQ1C4hs7O0jMk00rbVRR3Jr5h/aX/Ytg/b60C41nU1Ph27toSnh6TyQszL133HGdr8YXqo56163o2mXHx61m11rU7ea18KWUvm6VYTDDakw+7dTL2XukbDOMMwBO0enKuFry8RhaePg6ddXpvp38/Ly+89TDYyrl1RVMPK1Vde3l5vv9xxP7Ovwih+BXwS8M+E4Sr/ANi2EdvI69JJAo3t+Jya+Kv+Ck37dOufs9/tleEY/D90zQeG7QS6lZb/AN3drMfmjYeu0ZB7HFfoYRmvnP8Aac/Y2+HuoLq/j688N2uqeIFvbS9u5rtmlRoVljWUbCdoUQ7zjHavPz7A4mWAVHAS5OVp310UddPuR6XDuYYaOYuvmMXPmTVtNXLTW+27PXPgb8aNF/aB+GOl+KvD9wLjT9ThEmM/PC+PmjYdmU8EV1+361keCfB2i+CNDjs9B02x0vT/AL6QWsIijGcc4HHpWxXv0PaKnFVWnK2rW1/I+exDpupJ0U1G+ie6XmJtpcYoorUxCiiigAooooAKKKKACiiigAooooAKKKD0oAz/ABP4ht/Cug3mo3TbLeyhaZyfQDNcx8D/AAxNpvhyfV79f+Jx4knOoXbEfMoPEUf0SPAx65ql8VVb4heNtI8Gw5+yZXVtYYHgW0b4SH6yyDH+5HJ7V6Gq7RxxXJH95WcukdF69fuWn3nVL93RUestX6Lb73r9wtFFFdZylXW9FtvEOlXFjeQR3FpdxmKaJxlXUjBBrh/hbqd14J1yTwXqs7TNaoZdHuXPzXVoOBGSerx8KT1Iwa9CrmPij8P/APhOtDiNvMbPWNMlF3pt4v3radc4z6owJVl6FSfauevTldVYbr8V2/y8zpoVFZ0qnwv8H0f+fl8jpwciiua+F3jxfHfh9pJofsmp2EzWeo2hPzWtwv3l+hGGU91YHvXSitadSM4qUdmY1KcoScJboKKKKsgKKKKACiiigAoopssqwozMQqqMkk8CgCO8vorG0kmmkWKGFS7u5wqgckk15xp9tcfHzWFvLqN4PBdlJutbZ1w2sSA8Sv6RD+Ff4jyeOKiUSftH6pG6vIngG0kyMZX/AISGRTx7/Z1ZfpJ7r19QggW2iWONVVEAVVAwAB6Vxf7w7/Y/9K/4H5+m/b/u6t9v/wBJ/wCD+XrsRII0CgAAcADtTqKK7TiCsnx54eTxb4J1jS5MbNSsprVs+jxsv9a1qbIMiplFSTiyoycWpI5n4LeIG8TfCfw9ey58+awh84HqsgQBgfowIrqK4P4Ct9h0zXtK5A0fW7u3QH+4z+ap+n7yu8rHCyboxvvb8tDbFRSrSS2v+D1Ciiiug5wooooAKKKKACiiigAooooAKKKKACqus6rb6HpdxeXUqQWtrE000jnCoijJJ+gFWq87+MsR8e6xpPgyN8QalILvVQveziYEx/8AbRwqn1XcO9Y4io4QbW/T1exth6anNRe279FuWPgbpEt1pd/4nvI3W+8Vz/bQr/ehtwAsEfthMHHq5rvKZbxLBCqIoVVG1QOwHQU+nRpqnBR/q/Vk1qntJuf9W6L7gooorUzCg0UUAed/E/SLjwF4jXxvpMUkhjRYNbtI+ft1qPuyAf8APSLJIPUqWU54x3Wjatb67pVveWkyXFrdRiWKRDlXUjIIqxLGsqMrAMrDBBHUV5r4bT/hSPjtdDdpP+EZ8QTNLpbOfl0+5OWe2B/uNyyDsdwrjl+5qc32Zb+T7+j6+fqzsj++p8v2o7ea7eq6eWnRHplFA6UV2HGFFFFABRRTWPFABJIIlLMwVVGSSeleY31xJ+0PqM9jD5kfgm1cx3U4JX+2nH3ol7+SOjH+Lp0zTtY1S8+O2uyaTpcrW/g+ykK6nqEbYbVHU/8AHtCe0YIIeQdfur1JHo+m6bBo9hDa2sUcFvboI440GFRR0AFcT/2h2XwL/wAm/wCB+fpv2L/Z1d/G/wDyXz9fy9dn2trHZW8cMMaxxxKERVGAoHAAHpUlFFdpxhRRRQAUHkUUUAcH4RP9i/HTxZp/3V1C0s9WQepbfA2P+/Kk/wC9713lef8Ajc/2B8efBmof8s9YgvNCk9CxQXcZP0FtKB/10PrXoFcuG0c4dm/x1/U6sVryT7xX4afoFFFFdRyhRRRQAUUUUAFFFFABRRRQAUUZrN1/xZpnhazafVNRsdPhXq9zOsS/mxFTKSirydkVGLk7RV2Xb28j0+zknmdY4YVLu7HhVAySa4T4J2M3iWbU/GN4jLN4hkAskccw2SEiL/vvl/8AgQrzn4/ftifDPUNHtPDq/EDw1DHrVyLa+nS+Ui2thlpSSDwWA2j3au68I/tX/CvW1t7PSfHfhObaqxxRx6hGMADAAyRXl/X8LUr29pH3fNbv59F+Z6n9n4qnQ5vZy97+69Evl1f5eZ6YKKr2Op2+qWyzWs8NxC4yskTh1P4irAORXqppq6PJaadmFFFFMAooooAKx/HPgyz8f+GbrS75X8m4Aw8bbZIHBykiN/C6sAwPqK2KKmUVJOMtmVGTi1KO6OL+E3i6+uluvD+vOreItD2rPIq7Vvoj9y4UejYwR2YEV2lcZ8VvBd1qP2XxBomI/EmhhntcnC3kZ+/bSeqPj6qwUjkVzXiH9tb4deEPD1peap4itbW7ul40xczX6uOGj8lMvuBBHTtXEsTDDpwxEkktm3a6+fVbP7+p3fVZ4hqeHi23ukr2fy6PdfNdD1iivni7/byvtbP/ABS3wl+ImtQ9rm7t4tNgk/3TI5Y/ioqsv7ZHxLhfdcfAzVFgPQw+IraWT/vjaP51zvPcGtpN+kZNfelY6FkON6xS9ZRT+5yufR5bArzfxJrN18ZtYu/D2j3U1rodq/k6vqUDYaY/xW0LdiRwzDleQOeR4t4r/wCCgdr4nnXQ9V8N+OPh9aRzGDXNTu9P86O1XaD5UUkJcZYMMuwUKM98V9AfBfxp4L8UeDrZPBGqaPqGkWyBUFjOsgTv8wHOTyTnnOaVLMcPjZ+yozVlv0b8rb27v5dx1stxGCh7WtB36dUvO60v2Xz7HTaFodr4c0m3sbG3htbO1QRwxRLtWNR0AFXKAc0V68UkrI8Ztt3YUUUUwCignFeYfGz9rbwj8D7uPT7ua61rxDcf8e+iaRF9q1Cb/gAICj3YgVjiMRSow56slFeZth8PVrz9nRi5Psj08nikLYr5juPjH8c/ihK0ml6L4U+HOlSf6s6oz6lqmP7xjTbEvGPlJyDVZ/hn8UNUO69+NHiKFjyRYaZawKD7BlbivJlnkH/Cpyku9kv/AEpp/gexHIZL+LVhF9rt/wDpKa/E9p/aAAsPCuna138P6ta35PogkCSfnG7j8a71elfJfiX4QfFHVPD11p8Xxg1C9hukKNHqej28yuPfYEP4itjSf2k/i18H0RfGfgrT/GGjQoFbUfCkrG8jA43PbTY3HudjfnWNPOYRquVanKMWlrZNX135W+ltTapks50oxo1Izkr6XadnbbmS63PpyiuK+DX7QfhP49aM154a1aC8MPFxatmO6s2/uyxNhkb2IrtQc171GtTqwU6bTT6o+frUalKbp1U010egUUUVoZhRRRQAUUUUAGazfFnizTfBHh661bVry30/TrGMyz3EzhUjUdya0W+7Xyz8bL9/2nv2hp/B8kjN4H8BiK41aJD8mp37fMkDnuqLhivckV5+ZY36tSvFXlJ2S8/PyW7PQy3A/Watpu0Yq8n5eXm3ovMdrPx8+IX7TUbJ4Dz4H8IyMQviC9gEl/ep03W8LcKpxwz9QelV9G/Y+8Hpc/bfEK6p411ZzmS9167e6Ln2jJ8tR7BeK9RghSCFY40WOONQqqowFA7AVJ0r52WG9q+fEvnl57L0Wy/Puz6SOKdJezwq9nHy3frLd/l2Rgab8L/DWjRKtr4d0O3VRgBLGIYH/fNVNd+Cvg/xNbtFqHhfQblG6h7GPn9K6jd/nNKDurX2FNqzirehisRVTupO/qeSXX7KNt4SuW1D4d+I/EHw/wBT+8Esrlp7GY/9NLeUspHQcYwK6r4fftb658P/ABJYeGvixY2emTXziCy8RWTH+zr5+gVwf9S7eh4967Ejisjx14G0v4keFLzRdYtI7zT76MxyxuOme4PYjqCOhrKNGdB8+EfK+32X6rp6qz9TSVaGIXJjFzLv9pej6+juvQ9ujfeoYHIPIp1eA/sWePNS0i88QfDPxBfTahqXgsxtpt3OczX2mSD9yzH+JkIMZPqte/A5r6jA4qOJoqqtO67NaNfJnzGOwksNWdKTv2fdPVP5oKKKK6jkCkdtoz6c0teJ/t4eOtS8OfBuPQtFuGtNZ8bX0WhW1wpw1ukp/eyDvkR7ulc2MxMcPRlWl9lX9fL5nTg8LLEV40I/advTz+W5xPxD+Ofib9pjxVfeG/h7qT+HvCGmztbar4oiUPPduvDQ2eeODwZO3OPWtT4Yfs++E/hHAf7J0mE30x3XF/cjz7y5c9XeRssSevpW74E8D6f8N/B+n6HpNulvYabCsMSKMZx1J9STySepNbNfLRoyqS9tiPen+C8orp67vqfUyrRhD2GG92H4y85Pq/LZdAxRtqvq+qwaHpdzeXT+XbWcTTzPjOxFBZjgc8AHpXN/BD42eGf2jPhRonjfwbqQ1jwx4itxdafeiGSH7RGSQG2SKrr0PDAGuq3U5etjqHto2jZWjjZXOWUqCG+o715r41/Zk02/1o6/4SvbrwL4sj+aPUdKAjSc/wB2eH7kinvkZr07qKMVjWw9OorTX+a9HujajiKlJ3g/8n6rZ/MyP2bf2mb/AMW+I7jwL44tYNI8eadD5yiI4ttZgHWeAn043L1XPpXt46V8qftV+HJIfBFv4w0tVi8ReBLhdWsZwMPsUjzoiRztdMgjp0r6W8DeKIvGvg3StYgGIdUtIrpB6B0DD+deplOKqNyw1Z3cbNPun3801Z99Gebm+EpxUcTRVlK6a6KStt5NO67ao1aM0UjV7R4Z4l+1h8c9a8M6hpngbwT5R8aeJkZ1uZF3x6PaA4e6cdyOQo7t9K5/4Q/A/R/hDpzmAyanrV4TJqGr3n7y8v5D95mc8gE9FHAFc98HLhvHn7Qvxc8VXmZLq111vDFqG/5YW9mqjavszsWPua9WA4r4/wBp9ZqvEz11aiuyTt97tdv5H2Tj9VorC09NE5Pu2r2fkr2S9X1DbSbcU6vNv2rP2q/CH7G3wguvGvjSbUF0yG4hsre1061N3f6ldTPshtreEEGSV2OFXIye4rpSbdkcrlZXZ6RtpCMVwH7M/wC0Tp/7T/wwh8Uab4d8a+E0a4ltJ9J8WaM+k6tZTRkBklt2JK9RyCQexr0Gk1Z2YXT1PNPi18CpNZ1aHxX4NvP+EY8eaXl7a9t0Cx347wXKdJEYcZPIzkV63+zL8dx8dfATXN1a/wBm69pUxsdXsT/y63K9QP8AZPUH0NZp4rzv4XXDeBP29rrT7UlbPxt4abUbmIH5fPtpVjEmPUqwH4Vlh6n1bExlD4Zu0l0u9n630fdPXZG2Ih9aw0oT+KCvF9bLeN+1tV2a03Z9PDpRRRX1p8iFFFFABRRRQAj/AHa+U/2a/wB34o+KEU3/AB/J4uuTNn720qpjz/wGvq08ivl39orR7j9mv43P8SIYXk8G+Joo7LxIsSknTplOIrwjps52sc8cV4OeRcVTxHSDd/JNWv8AJ7+Vz3sikpOph/tTSt5tO9vmr28z0qhulV9M1K31fT4bq0uIbq1uEEkU0ThkkU9CCOCDVgnIrlTTV0dbTTsz81f+CyX/AAV88efsF/HCx8N+BbrwbdfYfD0ev6npmoaTdXl5Mr3MsQ/eRsscEZCABzuO7dxjGf0K+E/jN/iN8LvDPiGSFbaTXtJtNReFW3LEZoUkKg9wC2M+1cf8a/2LfhN+0f4ktdY8efD3wn4s1Szt2tIbrU9PjuJo4WJJjDMM7SSTjpzXo2iaLaeGtGs9PsbeGzsdPgS2toIl2xwRooVEUdgFAAHYCtJSi4pJamUYyUm29C1QelBPFc58T/ifo/wi8IXWta1dLb2tuPkTI8y4f+GONc/M7HgAd6xnOMIuUnZI3p05TkoQV2zA+H587/goFH9m+7D4LmF7j1N1H5WfwD4/GvpoDFeG/sY/C7WNOttd8eeKrM2HiXxxKk6WT58zS7FFxBbtno+Msw/vE17l0r08lpSjh+eStzNyt5Pb8Ff5nmZ5VjLEKEHfkSjfu1v+OnyCiiivXPHCvn3/AIKCxPonhTwb4sZWax8I+Ire7vSBnyoZAYWc+y78mvoKsnxv4O074g+E9S0PV7ZLzTNWt3tbmF+kiMMH6deD2IrjzDDPEYadGLs2tPVar8Tty7FLD4mFaSuk9fR6P8DzmOdZolkjZWRwGUg5BB6VJXjPhnxRqH7J/iG28B+PriT+wZJDB4a8Tz8W9zF/BbXEhwEmVeBnhgK9jhmWaNWRlkRhlWU5Vh7GvnKNdTvGWkluuqf9bPqfR4jDunaS1i9n0a/rdbpmF8V4mn+GHiSONWd30u5CqBksfKfgV+OH/BFzx98QvCXxL/Zt8I+GfE3xS1XTptCu4/iB4c1zSnttH8OWyoxt3gZkGHMm0dSSGNftawDDnHoQaig063tG3RwwxNjblIwvHpXbTqcsXFo46lPmkpX2Jx0opDwKzPF3jLSfAWg3Gqa1qVnpen2q7pJ7mZY0X8SeT6AcmueUlFc0nZG0YuT5Y7nI/tT+JI/DXwF8SMw3zX1sbC3jAy0s037tFA9SWFe5fBXwxN4M+EXhjSbjIn03S7a2kB7MkSqf5V8//B7wTq/7V/xH0rxrrljdaT8PfDsn2nQNNuozHNrVz0W8mQ9I0xmMZ53Zr6oX7tdWT05VJyxbVk0lHzSd2/RvbyV+pzZzUjTpxwid5Jty8m0kl6pLXzdugUjUtFfQHzx8q2dh/wAKQ/a88XaDdERaX8QmXxDpEjcK91tCXUXoWyA/0NepDpWx+0T+z/pn7Qngkabdzz6bqVnKt3pmp23Fxptwv3ZEP6EdCOK8It/jhrXwLvodB+Llm2lS7/ItfE8MR/sfUvQvJwIZCOSrYGenFfI4im8FUkp/w220+iu7tPtrs9rabn2GHqLHU4yp61IpJx6uysmu+i1W99dj1+vG/wBuP9jfS/23/gtH4T1DW9S8M3enaraa7pWr2EayT6bfWsglhlCN8r7WAO04Br1rStXtddso7qxure8tpgGSaCQSRuDzkEcGrWa2jL7UTnlH7Mjg/wBnT4VeIfg98N49J8VeO9W+I+uNcSXNzreoWkVpLOXx8oii+REXHCjP1rvKCeKyPGHjrRfh9pEmoa7q2n6PZRj5pru4WJf/AB4jJ9hSnNJc0nYqEG2oxV2arnA9hyfavP8A9mSx/wCFvftPeKPHkbb9F8O2Q8N6XKOVuH3b53U9wGAXjuK56DVPFn7Y6Lpng2DU/C3gO6+W/wDE95bmGe/hPVLFG6huQZDjAPHNfTvw0+G+kfCbwVp/h/Q7VbPTdNiEUSL1PqzHuxPJPcmlgaTxdaNVL93F3v8AzPpbyW9+rtYeOrLCUZUm/wB5NWt/Kut/N7W6K9+hvUUUV9UfKBRRRQAUUUUAFVdX0m21zT5rO8t4bq1uUMc0MqB0kU8EEHgg1aopNJqzGm07o+ZvEH7KPjD4FXEl18J9QgvtDaQyt4U1aUrBDk5ItpuTGMknaeKxI/2srPwrcmz8ceGPFHgq+jOJGurF5rP6rPGCpH619adahu7CG/i8ueGOaM/wyKGX8jXhVMkUXfCz5PJq8fktGvRO3ke7TzxyVsXDnf8AMnyy+b1T9Wr+Z84WX7T3w71FQ0fjTw6oPP7y7WM/+PYqDVf2r/hzo8TNJ4u0eYj+G3l89mPoAgOa9u1H4C+CdXYtdeEfDdwzHJMmnRNn/wAdqzo3wd8K+HZVksPDWg2ci9GhsY1I/IVj/ZeN254fc/yv+pt/amB35J/evzt+h84QftA+I/ijO1n8N/Aeva1I3B1LVYjpunwn13SfM45B+Uc13fwn/Y+un8WWPiz4kawvivxFYnzbKzSPZpulP6xxn7zj++3PHFe7RwiJQqqqqvAA4Ap9dWHyWKkp4iTm1stor5f5tnPiM6m4unhoqmnu95P5vb5JeYirtFLRRXtHhhRRRQAUUUUAZPjPwPpHxE8PXGk65ptnqmm3a7Zba5iEkb/ge/uORXguofsWeJPhpK8nwz8bXWn2O7cmia0pvbNB/djfO+NfbkCvpCiuHF5dQxL5qi1WzWjXzWv6Hdg8yxGGuqT0e6aTT+T0+e58t3OsfGzwcfL1L4aabryr0uNG1dfn/wC2cgBH51XT4vfEq4by4fgn4sWUcFpry3SP892a+rMZo6157yR392tK3pF/jynorPI/aoQv6zX4cx8v2ehfHbx/8sHh3wr4HtpOlxfXxvp1Hr5aAAH2JxXT+Bf2FtL/AOEhg1zx9rF98QdYtiHhS+QJp9q/qlsPkz7tk17zRW1LJcPGSlVbm1/M9PuVl+BhVzzESi40kqaf8q1+93l+I2GFYY1VVVVUYUAYAHtTqKK9g8cKKKKACqWv+HbHxVpU1hqVlaahY3C7Zbe5hWWKQehVgQfxq7RScU1ZjjJp3R4Prn/BPnwbHfTXXhW/8SeBp5iXMejag8dru658hsx5/DtWY37IfxGseLH4w3e0dPteiwzHHudw5r6LorypZJg27qHL/hbj+TR6sc8xqVnPm/xJS/8ASkz51j/Y28c6qdmrfGDWmhb74sNNhtWI9A3zYrofBX7Bfw/8M6xHqeqWd94w1SPlLnxDdNqHln/ZR8ov4CvaaKqnkuDg+bku/NuX/pTYVM7xs4uPPZP+VKP/AKSkMghW3iWNEVEUYCqMBR6AU+iivUPJCiiigAooooAKKKKAP//Z)"
   ],
   "metadata": {
    "id": "QCQVU-QDfpZX"
   }
  },
  {
   "cell_type": "markdown",
   "source": [
    "Donde a=1, b=2 y c=3\n",
    "\n",
    "1. Realizar el paso forward y calcular Y.\n",
    "\n",
    "2. Realizar el paso backward y calcular el backpropagation para a,b y c:\n",
    "\n",
    "    a. En forma analítica (dy/dx = 0)\n",
    "\n",
    "    b. Aplicando regla de la cadena\n",
    "\n",
    "    c. Utilizando pytorch\n",
    "\n",
    "3. Comparar los resultados del punto 2"
   ],
   "metadata": {
    "id": "AwCiDRncfsaI"
   }
  },
  {
   "cell_type": "markdown",
   "source": [
    "# Resolucion Ejercicio 1"
   ],
   "metadata": {
    "collapsed": false
   }
  },
  {
   "cell_type": "code",
   "execution_count": 345,
   "outputs": [
    {
     "data": {
      "text/plain": "-3"
     },
     "execution_count": 345,
     "metadata": {},
     "output_type": "execute_result"
    }
   ],
   "source": [
    "# Punto 1\n",
    "a = 1\n",
    "b = 2\n",
    "c = 3\n",
    "d = a + b\n",
    "e = b - c\n",
    "Y = d * e\n",
    "Y"
   ],
   "metadata": {
    "collapsed": false,
    "ExecuteTime": {
     "end_time": "2023-06-20T17:28:01.257742700Z",
     "start_time": "2023-06-20T17:28:01.119357100Z"
    }
   }
  },
  {
   "cell_type": "code",
   "execution_count": 346,
   "outputs": [],
   "source": [
    "# Punto 2.a\n",
    "# todo"
   ],
   "metadata": {
    "collapsed": false,
    "ExecuteTime": {
     "end_time": "2023-06-20T17:28:01.396361500Z",
     "start_time": "2023-06-20T17:28:01.131796200Z"
    }
   }
  },
  {
   "cell_type": "markdown",
   "source": [
    "### Punto 2.b"
   ],
   "metadata": {
    "collapsed": false
   }
  },
  {
   "cell_type": "markdown",
   "source": [
    "Resuelto en img/Ejercicio1_punto2b.jpg"
   ],
   "metadata": {
    "collapsed": false
   }
  },
  {
   "cell_type": "code",
   "execution_count": 347,
   "outputs": [
    {
     "name": "stdout",
     "output_type": "stream",
     "text": [
      "tensor([-1.])\n",
      "tensor([2.])\n",
      "tensor([-3.])\n"
     ]
    }
   ],
   "source": [
    "# Punto 2.c\n",
    "\n",
    "a = torch.tensor([1.0], requires_grad=True)\n",
    "b = torch.tensor([2.0], requires_grad=True)\n",
    "c = torch.tensor([3.0], requires_grad=True)\n",
    "\n",
    "d = a + b\n",
    "e = b - c\n",
    "y = d * e\n",
    "\n",
    "y.backward()\n",
    "print(a.grad)\n",
    "print(b.grad)\n",
    "print(c.grad)"
   ],
   "metadata": {
    "collapsed": false,
    "ExecuteTime": {
     "end_time": "2023-06-20T17:28:01.396361500Z",
     "start_time": "2023-06-20T17:28:01.134859100Z"
    }
   }
  },
  {
   "cell_type": "markdown",
   "source": [
    "Se observa como los resultados obtenidos usando pytorch (2.c) coinciden con los obtenidos usando la regla de la cadena (2.b)"
   ],
   "metadata": {
    "collapsed": false
   }
  },
  {
   "cell_type": "markdown",
   "source": [
    "## Ejercicio 2"
   ],
   "metadata": {
    "id": "4CMta3Dj_Mjq"
   }
  },
  {
   "cell_type": "markdown",
   "metadata": {
    "id": "C_hXG5W6KMBx"
   },
   "source": [
    "Si tiene una imagen a procesar de 1024x720x3 y desea aplicar en cascada, 2 capas de convolución, seguido por una capa de activación y una de pooling,  con las siguientes características:\n",
    "\n",
    "*Conv1:*\n",
    "* tamaño kernel = 7x7\n",
    "* padding = 2\n",
    "* stride = 1\n",
    "* número de kernel = 16\n",
    "\n",
    "*Conv2:*\n",
    "* tamaño kernel = 5x5\n",
    "* padding = 0\n",
    "* stride = 1\n",
    "* número de kernel = 32\n",
    "\n",
    "*activación*\n",
    "* Tanh()\n",
    "\n",
    "*pooling*\n",
    "* tamaño pooling = 5x5\n",
    "* padding pooling = 0\n",
    "* stride pooling = 5\n",
    "\n",
    "a) ¿Cual es el tamaño final de la salida y cuantos canales tiene?\n",
    "\n",
    "b) Si tiene que conectar esa salida a una `fully_connected` para clasificar 3 clases ¿que tamaño debe tener?\n",
    "\n",
    "\n",
    "\n",
    "\n"
   ]
  },
  {
   "cell_type": "code",
   "execution_count": 348,
   "outputs": [],
   "source": [
    "def calculate_size(input, kernel_size, padding, stride):\n",
    "    return int(((input + 2 * padding - kernel_size)/stride) + 1)\n"
   ],
   "metadata": {
    "collapsed": false,
    "ExecuteTime": {
     "end_time": "2023-06-20T17:28:01.396361500Z",
     "start_time": "2023-06-20T17:28:01.143632200Z"
    }
   }
  },
  {
   "cell_type": "code",
   "execution_count": 349,
   "outputs": [
    {
     "name": "stdout",
     "output_type": "stream",
     "text": [
      "Tamano final de salida es 203x142 con 32 canales\n",
      "Si tiene que conectar esa salida a una `fully_connected` para clasificar 3 clases, el input sera de 922432, el output de 3, por lo que la cantidad de parametros totales (pesos y bias) sera de 2767299\n"
     ]
    }
   ],
   "source": [
    "input_w_1 = 1024\n",
    "input_h_1 = 720\n",
    "input_k_1 = 3\n",
    "\n",
    "output_w_1 = calculate_size(input_w_1, 7, 2, 1)\n",
    "output_h_1 = calculate_size(input_h_1, 7, 2, 1)\n",
    "output_k_1 = 16\n",
    "\n",
    "input_w_2 = output_w_1\n",
    "input_h_2 = output_h_1\n",
    "input_k_2 = output_k_1\n",
    "\n",
    "output_w_2 = calculate_size(input_w_2, 5, 0, 1)\n",
    "output_h_2 = calculate_size(input_h_2, 5, 0, 1)\n",
    "output_k_2 = 32\n",
    "\n",
    "# capa de activacion tanh() no cambia la dimension\n",
    "\n",
    "input_w_3 = output_w_2\n",
    "input_h_3 = output_h_2\n",
    "input_k_3 = output_k_2\n",
    "\n",
    "output_w_3 = calculate_size(input_w_3, 5, 0, 5)\n",
    "output_h_3 = calculate_size(input_h_3, 5, 0, 5)\n",
    "output_k_3 = 32\n",
    "\n",
    "print(f'Tamano final de salida es {output_w_3}x{output_h_3} con {output_k_3} canales')\n",
    "\n",
    "fully_connected_classes = 3\n",
    "\n",
    "# le sumo 1 para tener en cuenta los parametros del bias de cada clase\n",
    "fully_connected_params = fully_connected_classes * (output_w_3 * output_h_3 * output_k_3 + 1)\n",
    "\n",
    "print(f'Si tiene que conectar esa salida a una `fully_connected` para clasificar 3 clases, el input sera de {output_w_3 * output_h_3 * output_k_3}, el output de {fully_connected_classes}, por lo que la cantidad de parametros totales (pesos y bias) sera de {fully_connected_params}')"
   ],
   "metadata": {
    "collapsed": false,
    "ExecuteTime": {
     "end_time": "2023-06-20T17:28:01.396361500Z",
     "start_time": "2023-06-20T17:28:01.159764600Z"
    }
   }
  },
  {
   "cell_type": "markdown",
   "source": [
    "## Ejercicio 3"
   ],
   "metadata": {
    "id": "fvsqmJwx_Rb8"
   }
  },
  {
   "cell_type": "markdown",
   "metadata": {
    "id": "ABeIRvAkKLy7"
   },
   "source": [
    "a) Implemente una red recurrente (como la de la imagen) que:\n",
    "\n",
    "\n",
    "\n",
    "* Tenga como input una señal de 4 canales (4 features)\n",
    "* 3 capas ocultas con 20 neuronas.\n",
    "* Tenga como salida una señal de 2 canales (2 features) de igual longitud que la señal de entrada.\n",
    "\n",
    "\n",
    "b) Testeear el modelo con una señal random de longitud 20.\n",
    "\n",
    "c) Indique el total de parámetros entrenables.\n",
    "\n",
    "\n",
    "\n",
    "![c](https://drive.google.com/uc?export=view&id=1jDMr1hOiHBgkDZepHfOaxWQcaNNntB7W)\n",
    "\n",
    "\n",
    "\n",
    "Imagen 3 link (https://drive.google.com/file/d/1jDMr1hOiHBgkDZepHfOaxWQcaNNntB7W/view?usp=drive_link)\n",
    "\n"
   ]
  },
  {
   "cell_type": "code",
   "execution_count": 350,
   "outputs": [],
   "source": [
    "class MyRNN(torch.nn.Module):\n",
    "    def __init__(self, input_size=4, hidden_size=20, num_layers=3, num_outputs=2):\n",
    "        super().__init__()\n",
    "        self.rnn = torch.nn.RNN(input_size, hidden_size, num_layers, batch_first=True)\n",
    "        self.fc = torch.nn.Linear(hidden_size, num_outputs)\n",
    "\n",
    "    def forward(self, x):\n",
    "        y, h = self.rnn(x)\n",
    "        y = self.fc(y)\n",
    "        return y\n",
    "\n",
    "    def test_with_random_input(self, input_size=4, batch_size=1, test_size=20):\n",
    "        input = torch.rand(batch_size, test_size, input_size)\n",
    "        print('Test input')\n",
    "        print(input.shape)\n",
    "        print(input)\n",
    "        output = self.forward(input)\n",
    "        print('Test output')\n",
    "        print(output.shape)\n",
    "        print(output)\n",
    "\n",
    "    def total_trainable_params(self):\n",
    "        pytorch_total_params = sum(p.numel() for n, p in self.named_parameters() if p.requires_grad)\n",
    "        print('Número total de parámetros a entrenar: ', pytorch_total_params)\n"
   ],
   "metadata": {
    "collapsed": false,
    "ExecuteTime": {
     "end_time": "2023-06-20T17:28:01.396361500Z",
     "start_time": "2023-06-20T17:28:01.164614Z"
    }
   }
  },
  {
   "cell_type": "code",
   "execution_count": 351,
   "outputs": [],
   "source": [
    "rnn = MyRNN()"
   ],
   "metadata": {
    "collapsed": false,
    "ExecuteTime": {
     "end_time": "2023-06-20T17:28:01.396361500Z",
     "start_time": "2023-06-20T17:28:01.173490600Z"
    }
   }
  },
  {
   "cell_type": "code",
   "execution_count": 352,
   "outputs": [
    {
     "name": "stdout",
     "output_type": "stream",
     "text": [
      "Test input\n",
      "torch.Size([1, 20, 4])\n",
      "tensor([[[0.1684, 0.0872, 0.6540, 0.3508],\n",
      "         [0.2205, 0.5479, 0.0861, 0.2163],\n",
      "         [0.3890, 0.3354, 0.6645, 0.5940],\n",
      "         [0.4087, 0.1900, 0.9596, 0.8628],\n",
      "         [0.6935, 0.8109, 0.8659, 0.8452],\n",
      "         [0.2307, 0.6234, 0.3574, 0.7377],\n",
      "         [0.7204, 0.4674, 0.9946, 0.4733],\n",
      "         [0.5726, 0.2430, 0.9137, 0.8028],\n",
      "         [0.7186, 0.9341, 0.5239, 0.7647],\n",
      "         [0.2701, 0.4022, 0.5277, 0.8930],\n",
      "         [0.8246, 0.2169, 0.1705, 0.7711],\n",
      "         [0.1629, 0.9866, 0.9993, 0.0702],\n",
      "         [0.2537, 0.8312, 0.5020, 0.1266],\n",
      "         [0.9047, 0.3183, 0.1159, 0.9970],\n",
      "         [0.0669, 0.3875, 0.6805, 0.4911],\n",
      "         [0.0132, 0.6187, 0.6974, 0.3274],\n",
      "         [0.9735, 0.9042, 0.7836, 0.1644],\n",
      "         [0.1724, 0.9173, 0.8047, 0.3889],\n",
      "         [0.9574, 0.9624, 0.4761, 0.9622],\n",
      "         [0.3776, 0.7292, 0.9256, 0.6480]]])\n",
      "Test output\n",
      "torch.Size([1, 20, 2])\n",
      "tensor([[[-0.0471,  0.1097],\n",
      "         [-0.1705,  0.2098],\n",
      "         [-0.1864,  0.2081],\n",
      "         [-0.1662,  0.1791],\n",
      "         [-0.1642,  0.1773],\n",
      "         [-0.1752,  0.1933],\n",
      "         [-0.1711,  0.1726],\n",
      "         [-0.1598,  0.1707],\n",
      "         [-0.1551,  0.1766],\n",
      "         [-0.1771,  0.1893],\n",
      "         [-0.1733,  0.1913],\n",
      "         [-0.1696,  0.1998],\n",
      "         [-0.1730,  0.1662],\n",
      "         [-0.1804,  0.1912],\n",
      "         [-0.1724,  0.2142],\n",
      "         [-0.1722,  0.1807],\n",
      "         [-0.1751,  0.1643],\n",
      "         [-0.1751,  0.1952],\n",
      "         [-0.1755,  0.1732],\n",
      "         [-0.1856,  0.2066]]], grad_fn=<ViewBackward0>)\n"
     ]
    }
   ],
   "source": [
    "rnn.test_with_random_input()"
   ],
   "metadata": {
    "collapsed": false,
    "ExecuteTime": {
     "end_time": "2023-06-20T17:28:01.411987500Z",
     "start_time": "2023-06-20T17:28:01.177100100Z"
    }
   }
  },
  {
   "cell_type": "code",
   "execution_count": 353,
   "outputs": [
    {
     "name": "stdout",
     "output_type": "stream",
     "text": [
      "Número total de parámetros a entrenar:  2242\n"
     ]
    }
   ],
   "source": [
    "rnn.total_trainable_params()"
   ],
   "metadata": {
    "collapsed": false,
    "ExecuteTime": {
     "end_time": "2023-06-20T17:28:01.411987500Z",
     "start_time": "2023-06-20T17:28:01.183592Z"
    }
   }
  },
  {
   "cell_type": "markdown",
   "source": [
    "## Ejercicio 4"
   ],
   "metadata": {
    "id": "WL2PjUnT_Uvk"
   }
  },
  {
   "cell_type": "markdown",
   "metadata": {
    "id": "73yqE_Sslwif"
   },
   "source": [
    "\n",
    "Se desea construir un sistema de recomendación de películas. Para esto se cuenta con un dataset de las puntuaciones que los usuarios han asignado a las peliculas disponibles.\n",
    "\n",
    "Link dataset: https://drive.google.com/file/d/1Og9H-8oqb3_Wo_WOakeAuRR_mwr922Ar/view?usp=sharing\n",
    "\n",
    "Para verificar la factibilidad del proyecto con datos válidos, se decide utilizar solamente las 200 películas con más votos y los usuarios que han puntuado al menos 100 películas.\n",
    "\n",
    "1- Procesar el dataset para utilizar solamente las 200 películas con mayor cantidad de votos y los usuarios que hayan votado al menos 100 películas.\n",
    "\n",
    "2- A partir del dataset del punto 1, construir una única red neuronal que utilice una capa de embeddings para el id de usuario, una capa de embeddings para el id de película y al menos dos capas lineales que sea capaz de predecir el puntaje que cada usuario colocó a cada pelicula.\n",
    "\n",
    "3- Elegir un usuario al azar, una película que dicho usuario haya puntuado y verificar la predicción del modelo. Comparar con el puntaje real que el usuario asignó a dicha película.\n",
    "\n",
    "4- Realizar una recomendación de película para el usuario del punto 3 utilizando los embeddings de usuario o los embeddings de películas. Comprobar si la recomendación es correcta haciendo una predicción del puntuaje con la red neuronal."
   ]
  },
  {
   "cell_type": "code",
   "execution_count": 354,
   "outputs": [],
   "source": [
    "def filter_movies(df: pd.DataFrame, ranking_threshold: int):\n",
    "    return df['movieId'].value_counts(ascending=False).reset_index()[0:ranking_threshold]['movieId']"
   ],
   "metadata": {
    "collapsed": false,
    "ExecuteTime": {
     "end_time": "2023-06-20T17:28:01.427613800Z",
     "start_time": "2023-06-20T17:28:01.187120400Z"
    }
   }
  },
  {
   "cell_type": "code",
   "execution_count": 355,
   "outputs": [],
   "source": [
    "def filter_users(df: pd.DataFrame, votes_threshold: int):\n",
    "    df = df['userId'].value_counts(ascending=False).reset_index()\n",
    "    return df[(df['count'] >= votes_threshold)]['userId']"
   ],
   "metadata": {
    "collapsed": false,
    "ExecuteTime": {
     "end_time": "2023-06-20T17:28:01.427613800Z",
     "start_time": "2023-06-20T17:28:01.194132400Z"
    }
   }
  },
  {
   "cell_type": "code",
   "source": [
    "# Constants\n",
    "\n",
    "DATASET_PATH = './dataset/ratings.csv'\n",
    "MOVIES_NUM_VOTES_RANKING_THRESHOLD = 200\n",
    "USER_VOTES_THRESHOLD = 100\n",
    "RANDOM_STATE = 42\n",
    "SPLIT_SIZE = 0.85\n",
    "EPOCHS = 100"
   ],
   "metadata": {
    "id": "eLQzdNeRjzym",
    "ExecuteTime": {
     "end_time": "2023-06-20T17:28:01.427613800Z",
     "start_time": "2023-06-20T17:28:01.194132400Z"
    }
   },
   "execution_count": 356,
   "outputs": []
  },
  {
   "cell_type": "code",
   "execution_count": 357,
   "outputs": [
    {
     "name": "stdout",
     "output_type": "stream",
     "text": [
      "Random seed set as 42\n"
     ]
    }
   ],
   "source": [
    "def set_seed(seed: int = 42) -> None:\n",
    "  np.random.seed(seed)\n",
    "  torch.manual_seed(seed)\n",
    "  print(f\"Random seed set as {seed}\")\n",
    "\n",
    "set_seed(RANDOM_STATE)"
   ],
   "metadata": {
    "collapsed": false,
    "ExecuteTime": {
     "end_time": "2023-06-20T17:28:01.427613800Z",
     "start_time": "2023-06-20T17:28:01.197731400Z"
    }
   }
  },
  {
   "cell_type": "markdown",
   "source": [
    "# Punto 1"
   ],
   "metadata": {
    "collapsed": false
   }
  },
  {
   "cell_type": "code",
   "execution_count": 358,
   "outputs": [],
   "source": [
    "def get_valid_data():\n",
    "    df = pd.read_csv(DATASET_PATH)\n",
    "    valid_movies = filter_movies(df, MOVIES_NUM_VOTES_RANKING_THRESHOLD)\n",
    "    valid_users = filter_users(df, USER_VOTES_THRESHOLD)\n",
    "    df = df[df['movieId'].isin(valid_movies) & df['userId'].isin(valid_users)].reset_index()\n",
    "    return df"
   ],
   "metadata": {
    "collapsed": false,
    "ExecuteTime": {
     "end_time": "2023-06-20T17:28:01.427613800Z",
     "start_time": "2023-06-20T17:28:01.202340Z"
    }
   }
  },
  {
   "cell_type": "code",
   "execution_count": 359,
   "outputs": [
    {
     "name": "stdout",
     "output_type": "stream",
     "text": [
      "(18589, 5)\n",
      "200\n",
      "248\n"
     ]
    }
   ],
   "source": [
    "df = get_valid_data()\n",
    "valid_movies = df['movieId']\n",
    "valid_users = df['userId']\n",
    "print(df.shape)\n",
    "print(len(valid_movies.unique()))\n",
    "print(len(valid_users.unique()))"
   ],
   "metadata": {
    "collapsed": false,
    "ExecuteTime": {
     "end_time": "2023-06-20T17:28:01.474492600Z",
     "start_time": "2023-06-20T17:28:01.207633700Z"
    }
   }
  },
  {
   "cell_type": "code",
   "execution_count": 360,
   "outputs": [],
   "source": [
    "x = df.drop(['timestamp', 'rating', 'index'], axis=1)\n",
    "y = df['rating']"
   ],
   "metadata": {
    "collapsed": false,
    "ExecuteTime": {
     "end_time": "2023-06-20T17:28:01.474492600Z",
     "start_time": "2023-06-20T17:28:01.253397700Z"
    }
   }
  },
  {
   "cell_type": "code",
   "execution_count": 361,
   "outputs": [],
   "source": [
    "x = x.to_numpy()\n",
    "y = y.to_numpy()"
   ],
   "metadata": {
    "collapsed": false,
    "ExecuteTime": {
     "end_time": "2023-06-20T17:28:01.474492600Z",
     "start_time": "2023-06-20T17:28:01.257742700Z"
    }
   }
  },
  {
   "cell_type": "code",
   "execution_count": 362,
   "outputs": [],
   "source": [
    "y = (y - np.min(y, axis=0)) / (np.max(y, axis=0 ) - np.min(y, axis=0))"
   ],
   "metadata": {
    "collapsed": false,
    "ExecuteTime": {
     "end_time": "2023-06-20T17:28:01.474492600Z",
     "start_time": "2023-06-20T17:28:01.261507Z"
    }
   }
  },
  {
   "cell_type": "code",
   "execution_count": 363,
   "outputs": [],
   "source": [
    "def split_data_in_train_and_valid(data: pd.DataFrame, target: pd.DataFrame, split_size: float):\n",
    "    idx = np.random.permutation(data.shape[0])\n",
    "    train_idx = idx[0:int(split_size*len(idx))]\n",
    "    valid_idx = idx[int(split_size*len(idx)):]\n",
    "\n",
    "    train_x = data[train_idx]\n",
    "    train_y = target[train_idx]\n",
    "    valid_x = data[valid_idx]\n",
    "    valid_y = target[valid_idx]\n",
    "\n",
    "    return train_x, train_y, train_idx, valid_x, valid_y, valid_idx"
   ],
   "metadata": {
    "collapsed": false,
    "ExecuteTime": {
     "end_time": "2023-06-20T17:28:01.474492600Z",
     "start_time": "2023-06-20T17:28:01.265498300Z"
    }
   }
  },
  {
   "cell_type": "code",
   "execution_count": 364,
   "outputs": [],
   "source": [
    "train_x, train_y, train_idx, valid_x, valid_y, valid_idx = split_data_in_train_and_valid(x, y, SPLIT_SIZE)\n",
    "\n",
    "n_train = train_x.shape[0]\n",
    "n_valid = valid_x.shape[0]"
   ],
   "metadata": {
    "collapsed": false,
    "ExecuteTime": {
     "end_time": "2023-06-20T17:28:01.474492600Z",
     "start_time": "2023-06-20T17:28:01.269589900Z"
    }
   }
  },
  {
   "cell_type": "code",
   "execution_count": 365,
   "outputs": [],
   "source": [
    "def transform_id_to_idx(train_idx, valid_idx, ids):\n",
    "    id_to_idx = {value: i for i, value in enumerate(ids.unique())}\n",
    "    idx = np.array([id_to_idx[value] for value in ids])\n",
    "    idx_train = idx[train_idx]\n",
    "    idx_valid = idx[valid_idx]\n",
    "    return idx_train, idx_valid, id_to_idx"
   ],
   "metadata": {
    "collapsed": false,
    "ExecuteTime": {
     "end_time": "2023-06-20T17:28:01.474492600Z",
     "start_time": "2023-06-20T17:28:01.274442400Z"
    }
   }
  },
  {
   "cell_type": "code",
   "execution_count": 366,
   "outputs": [],
   "source": [
    "movie_idx_train, movie_idx_valid, movie_ids_to_idx = transform_id_to_idx(train_idx, valid_idx, valid_movies)\n",
    "user_idx_train, user_idx_valid, user_ids_to_idx = transform_id_to_idx(train_idx, valid_idx, valid_users)"
   ],
   "metadata": {
    "collapsed": false,
    "ExecuteTime": {
     "end_time": "2023-06-20T17:28:01.474492600Z",
     "start_time": "2023-06-20T17:28:01.278319Z"
    }
   }
  },
  {
   "cell_type": "code",
   "execution_count": 367,
   "outputs": [],
   "source": [
    "class MyDatasetWithEmbeddings(Dataset):\n",
    "  def __init__(self, movie_idx, user_idx, y):\n",
    "    self.movie_idx = movie_idx\n",
    "    self.user_idx = user_idx\n",
    "    self.y = y\n",
    "\n",
    "  def __len__(self):\n",
    "    return self.y.shape[0]\n",
    "\n",
    "  def __getitem__(self, idx):\n",
    "    return self.movie_idx[idx], self.user_idx[idx], self.y[idx]"
   ],
   "metadata": {
    "collapsed": false,
    "ExecuteTime": {
     "end_time": "2023-06-20T17:28:01.474492600Z",
     "start_time": "2023-06-20T17:28:01.287277400Z"
    }
   }
  },
  {
   "cell_type": "code",
   "execution_count": 368,
   "outputs": [],
   "source": [
    "train_ds_embeddings = MyDatasetWithEmbeddings(movie_idx_train, user_idx_train, train_y)\n",
    "valid_ds_embeddings = MyDatasetWithEmbeddings(movie_idx_valid, user_idx_valid, valid_y)"
   ],
   "metadata": {
    "collapsed": false,
    "ExecuteTime": {
     "end_time": "2023-06-20T17:28:01.474492600Z",
     "start_time": "2023-06-20T17:28:01.291542400Z"
    }
   }
  },
  {
   "cell_type": "code",
   "execution_count": 369,
   "outputs": [],
   "source": [
    "train_dataloader_emb = DataLoader(train_ds_embeddings, batch_size=64, shuffle=True)\n",
    "valid_dataloader_emb = DataLoader(valid_ds_embeddings, batch_size=64)"
   ],
   "metadata": {
    "collapsed": false,
    "ExecuteTime": {
     "end_time": "2023-06-20T17:28:01.474492600Z",
     "start_time": "2023-06-20T17:28:01.295256900Z"
    }
   }
  },
  {
   "cell_type": "markdown",
   "source": [
    "# Punto 2"
   ],
   "metadata": {
    "collapsed": false
   }
  },
  {
   "cell_type": "code",
   "execution_count": 370,
   "outputs": [],
   "source": [
    "class NNetWithEmbeddings(torch.nn.Module):\n",
    "  def __init__(self):\n",
    "    super().__init__()\n",
    "    self.movie_embeddings = torch.nn.Embedding(num_embeddings=200, embedding_dim=16)\n",
    "    self.user_embeddings = torch.nn.Embedding(num_embeddings=248, embedding_dim=16)\n",
    "    self.linear_1 = torch.nn.Linear(in_features=32, out_features=200, bias=True)\n",
    "    self.relu_1 = torch.nn.ReLU()\n",
    "    self.linear_2 = torch.nn.Linear(in_features=200, out_features=100, bias=True)\n",
    "    self.relu_2 = torch.nn.ReLU()\n",
    "    self.output = torch.nn.Linear(in_features=100, out_features=1, bias=True)\n",
    "\n",
    "  def forward(self, movie_idx, user_idx):\n",
    "    movie_embeddings_outputs = self.movie_embeddings(movie_idx)\n",
    "    user_embeddings_outputs = self.user_embeddings(user_idx)\n",
    "    x = torch.cat([movie_embeddings_outputs, user_embeddings_outputs], dim=1)\n",
    "    x = self.linear_1(x)\n",
    "    x = self.relu_1(x)\n",
    "    x = self.linear_2(x)\n",
    "    x = self.relu_2(x)\n",
    "    x = self.output(x)\n",
    "    return x"
   ],
   "metadata": {
    "collapsed": false,
    "ExecuteTime": {
     "end_time": "2023-06-20T17:28:01.474492600Z",
     "start_time": "2023-06-20T17:28:01.298781800Z"
    }
   }
  },
  {
   "cell_type": "code",
   "execution_count": 371,
   "outputs": [],
   "source": [
    "def get_device():\n",
    "    return \"cuda:0\" if torch.cuda.is_available() else \"cpu\"\n",
    "\n",
    "device = get_device()"
   ],
   "metadata": {
    "collapsed": false,
    "ExecuteTime": {
     "end_time": "2023-06-20T17:28:01.474492600Z",
     "start_time": "2023-06-20T17:28:01.304030200Z"
    }
   }
  },
  {
   "cell_type": "code",
   "execution_count": 372,
   "outputs": [],
   "source": [
    "nnnetWithEmbeddings = NNetWithEmbeddings()\n",
    "nnnetWithEmbeddings = nnnetWithEmbeddings.to(device)"
   ],
   "metadata": {
    "collapsed": false,
    "ExecuteTime": {
     "end_time": "2023-06-20T17:28:01.474492600Z",
     "start_time": "2023-06-20T17:28:01.310237100Z"
    }
   }
  },
  {
   "cell_type": "code",
   "execution_count": 373,
   "outputs": [],
   "source": [
    "loss_function = torch.nn.MSELoss(reduction='sum')\n",
    "optimizer = torch.optim.Adam(nnnetWithEmbeddings.parameters(), lr=0.001, weight_decay=0.01)"
   ],
   "metadata": {
    "collapsed": false,
    "ExecuteTime": {
     "end_time": "2023-06-20T17:28:01.474492600Z",
     "start_time": "2023-06-20T17:28:01.314450Z"
    }
   }
  },
  {
   "cell_type": "code",
   "execution_count": 374,
   "outputs": [
    {
     "name": "stdout",
     "output_type": "stream",
     "text": [
      " Epoch 0 | Train/Valid loss: 0.057 / 0.045 | Train/Valid accuracy: 0.943 / 0.955\n",
      " Epoch 1 | Train/Valid loss: 0.042 / 0.042 | Train/Valid accuracy: 0.958 / 0.958\n",
      " Epoch 2 | Train/Valid loss: 0.038 / 0.038 | Train/Valid accuracy: 0.962 / 0.962\n",
      " Epoch 3 | Train/Valid loss: 0.035 / 0.037 | Train/Valid accuracy: 0.965 / 0.963\n",
      " Epoch 4 | Train/Valid loss: 0.034 / 0.035 | Train/Valid accuracy: 0.966 / 0.965\n",
      " Epoch 5 | Train/Valid loss: 0.032 / 0.035 | Train/Valid accuracy: 0.968 / 0.965\n",
      " Epoch 6 | Train/Valid loss: 0.032 / 0.033 | Train/Valid accuracy: 0.968 / 0.967\n",
      " Epoch 7 | Train/Valid loss: 0.031 / 0.033 | Train/Valid accuracy: 0.969 / 0.967\n",
      " Epoch 8 | Train/Valid loss: 0.031 / 0.034 | Train/Valid accuracy: 0.969 / 0.966\n",
      " Epoch 9 | Train/Valid loss: 0.031 / 0.033 | Train/Valid accuracy: 0.969 / 0.967\n",
      " Epoch 10 | Train/Valid loss: 0.030 / 0.034 | Train/Valid accuracy: 0.970 / 0.966\n",
      " Epoch 11 | Train/Valid loss: 0.030 / 0.033 | Train/Valid accuracy: 0.970 / 0.967\n",
      " Epoch 12 | Train/Valid loss: 0.029 / 0.033 | Train/Valid accuracy: 0.971 / 0.967\n",
      " Epoch 13 | Train/Valid loss: 0.028 / 0.033 | Train/Valid accuracy: 0.972 / 0.967\n",
      " Epoch 14 | Train/Valid loss: 0.028 / 0.033 | Train/Valid accuracy: 0.972 / 0.967\n",
      " Epoch 15 | Train/Valid loss: 0.027 / 0.033 | Train/Valid accuracy: 0.973 / 0.967\n",
      " Epoch 16 | Train/Valid loss: 0.027 / 0.033 | Train/Valid accuracy: 0.973 / 0.967\n",
      " Epoch 17 | Train/Valid loss: 0.026 / 0.033 | Train/Valid accuracy: 0.974 / 0.967\n",
      " Epoch 18 | Train/Valid loss: 0.025 / 0.034 | Train/Valid accuracy: 0.975 / 0.966\n",
      " Epoch 19 | Train/Valid loss: 0.024 / 0.034 | Train/Valid accuracy: 0.976 / 0.966\n",
      " Epoch 20 | Train/Valid loss: 0.024 / 0.035 | Train/Valid accuracy: 0.976 / 0.965\n",
      " Epoch 21 | Train/Valid loss: 0.023 / 0.034 | Train/Valid accuracy: 0.977 / 0.966\n",
      " Epoch 22 | Train/Valid loss: 0.022 / 0.035 | Train/Valid accuracy: 0.978 / 0.965\n",
      " Epoch 23 | Train/Valid loss: 0.021 / 0.035 | Train/Valid accuracy: 0.979 / 0.965\n",
      " Epoch 24 | Train/Valid loss: 0.021 / 0.036 | Train/Valid accuracy: 0.979 / 0.964\n",
      " Epoch 25 | Train/Valid loss: 0.020 / 0.037 | Train/Valid accuracy: 0.980 / 0.963\n",
      " Epoch 26 | Train/Valid loss: 0.020 / 0.036 | Train/Valid accuracy: 0.980 / 0.964\n",
      " Epoch 27 | Train/Valid loss: 0.019 / 0.036 | Train/Valid accuracy: 0.981 / 0.964\n",
      " Epoch 28 | Train/Valid loss: 0.019 / 0.037 | Train/Valid accuracy: 0.981 / 0.963\n",
      " Epoch 29 | Train/Valid loss: 0.018 / 0.037 | Train/Valid accuracy: 0.982 / 0.963\n",
      " Epoch 30 | Train/Valid loss: 0.017 / 0.037 | Train/Valid accuracy: 0.983 / 0.963\n",
      " Epoch 31 | Train/Valid loss: 0.017 / 0.037 | Train/Valid accuracy: 0.983 / 0.963\n",
      " Epoch 32 | Train/Valid loss: 0.017 / 0.038 | Train/Valid accuracy: 0.983 / 0.962\n",
      " Epoch 33 | Train/Valid loss: 0.016 / 0.038 | Train/Valid accuracy: 0.984 / 0.962\n",
      " Epoch 34 | Train/Valid loss: 0.016 / 0.038 | Train/Valid accuracy: 0.984 / 0.962\n",
      " Epoch 35 | Train/Valid loss: 0.016 / 0.038 | Train/Valid accuracy: 0.984 / 0.962\n",
      " Epoch 36 | Train/Valid loss: 0.016 / 0.037 | Train/Valid accuracy: 0.984 / 0.963\n",
      " Epoch 37 | Train/Valid loss: 0.015 / 0.038 | Train/Valid accuracy: 0.985 / 0.962\n",
      " Epoch 38 | Train/Valid loss: 0.015 / 0.038 | Train/Valid accuracy: 0.985 / 0.962\n",
      " Epoch 39 | Train/Valid loss: 0.015 / 0.038 | Train/Valid accuracy: 0.985 / 0.962\n",
      " Epoch 40 | Train/Valid loss: 0.015 / 0.040 | Train/Valid accuracy: 0.985 / 0.960\n",
      " Epoch 41 | Train/Valid loss: 0.014 / 0.040 | Train/Valid accuracy: 0.986 / 0.960\n",
      " Epoch 42 | Train/Valid loss: 0.014 / 0.039 | Train/Valid accuracy: 0.986 / 0.961\n",
      " Epoch 43 | Train/Valid loss: 0.014 / 0.038 | Train/Valid accuracy: 0.986 / 0.962\n",
      " Epoch 44 | Train/Valid loss: 0.014 / 0.038 | Train/Valid accuracy: 0.986 / 0.962\n",
      " Epoch 45 | Train/Valid loss: 0.013 / 0.037 | Train/Valid accuracy: 0.987 / 0.963\n",
      " Epoch 46 | Train/Valid loss: 0.013 / 0.038 | Train/Valid accuracy: 0.987 / 0.962\n",
      " Epoch 47 | Train/Valid loss: 0.013 / 0.041 | Train/Valid accuracy: 0.987 / 0.959\n",
      " Epoch 48 | Train/Valid loss: 0.013 / 0.039 | Train/Valid accuracy: 0.987 / 0.961\n",
      " Epoch 49 | Train/Valid loss: 0.013 / 0.039 | Train/Valid accuracy: 0.987 / 0.961\n",
      " Epoch 50 | Train/Valid loss: 0.013 / 0.039 | Train/Valid accuracy: 0.987 / 0.961\n",
      " Epoch 51 | Train/Valid loss: 0.013 / 0.039 | Train/Valid accuracy: 0.987 / 0.961\n",
      " Epoch 52 | Train/Valid loss: 0.013 / 0.040 | Train/Valid accuracy: 0.987 / 0.960\n",
      " Epoch 53 | Train/Valid loss: 0.013 / 0.039 | Train/Valid accuracy: 0.987 / 0.961\n",
      " Epoch 54 | Train/Valid loss: 0.012 / 0.039 | Train/Valid accuracy: 0.988 / 0.961\n",
      " Epoch 55 | Train/Valid loss: 0.012 / 0.038 | Train/Valid accuracy: 0.988 / 0.962\n",
      " Epoch 56 | Train/Valid loss: 0.012 / 0.039 | Train/Valid accuracy: 0.988 / 0.961\n",
      " Epoch 57 | Train/Valid loss: 0.012 / 0.039 | Train/Valid accuracy: 0.988 / 0.961\n",
      " Epoch 58 | Train/Valid loss: 0.012 / 0.040 | Train/Valid accuracy: 0.988 / 0.960\n",
      " Epoch 59 | Train/Valid loss: 0.012 / 0.039 | Train/Valid accuracy: 0.988 / 0.961\n",
      " Epoch 60 | Train/Valid loss: 0.012 / 0.040 | Train/Valid accuracy: 0.988 / 0.960\n",
      " Epoch 61 | Train/Valid loss: 0.012 / 0.040 | Train/Valid accuracy: 0.988 / 0.960\n",
      " Epoch 62 | Train/Valid loss: 0.012 / 0.039 | Train/Valid accuracy: 0.988 / 0.961\n",
      " Epoch 63 | Train/Valid loss: 0.012 / 0.039 | Train/Valid accuracy: 0.988 / 0.961\n",
      " Epoch 64 | Train/Valid loss: 0.012 / 0.040 | Train/Valid accuracy: 0.988 / 0.960\n",
      " Epoch 65 | Train/Valid loss: 0.012 / 0.040 | Train/Valid accuracy: 0.988 / 0.960\n",
      " Epoch 66 | Train/Valid loss: 0.011 / 0.040 | Train/Valid accuracy: 0.989 / 0.960\n",
      " Epoch 67 | Train/Valid loss: 0.012 / 0.043 | Train/Valid accuracy: 0.988 / 0.957\n",
      " Epoch 68 | Train/Valid loss: 0.011 / 0.039 | Train/Valid accuracy: 0.989 / 0.961\n",
      " Epoch 69 | Train/Valid loss: 0.011 / 0.040 | Train/Valid accuracy: 0.989 / 0.960\n",
      " Epoch 70 | Train/Valid loss: 0.011 / 0.040 | Train/Valid accuracy: 0.989 / 0.960\n",
      " Epoch 71 | Train/Valid loss: 0.011 / 0.040 | Train/Valid accuracy: 0.989 / 0.960\n",
      " Epoch 72 | Train/Valid loss: 0.011 / 0.040 | Train/Valid accuracy: 0.989 / 0.960\n",
      " Epoch 73 | Train/Valid loss: 0.011 / 0.039 | Train/Valid accuracy: 0.989 / 0.961\n",
      " Epoch 74 | Train/Valid loss: 0.011 / 0.039 | Train/Valid accuracy: 0.989 / 0.961\n",
      " Epoch 75 | Train/Valid loss: 0.011 / 0.041 | Train/Valid accuracy: 0.989 / 0.959\n",
      " Epoch 76 | Train/Valid loss: 0.011 / 0.039 | Train/Valid accuracy: 0.989 / 0.961\n",
      " Epoch 77 | Train/Valid loss: 0.011 / 0.039 | Train/Valid accuracy: 0.989 / 0.961\n",
      " Epoch 78 | Train/Valid loss: 0.011 / 0.040 | Train/Valid accuracy: 0.989 / 0.960\n",
      " Epoch 79 | Train/Valid loss: 0.011 / 0.040 | Train/Valid accuracy: 0.989 / 0.960\n",
      " Epoch 80 | Train/Valid loss: 0.011 / 0.041 | Train/Valid accuracy: 0.989 / 0.959\n",
      " Epoch 81 | Train/Valid loss: 0.011 / 0.039 | Train/Valid accuracy: 0.989 / 0.961\n",
      " Epoch 82 | Train/Valid loss: 0.011 / 0.039 | Train/Valid accuracy: 0.989 / 0.961\n",
      " Epoch 83 | Train/Valid loss: 0.011 / 0.040 | Train/Valid accuracy: 0.989 / 0.960\n",
      " Epoch 84 | Train/Valid loss: 0.011 / 0.039 | Train/Valid accuracy: 0.989 / 0.961\n",
      " Epoch 85 | Train/Valid loss: 0.011 / 0.042 | Train/Valid accuracy: 0.989 / 0.958\n",
      " Epoch 86 | Train/Valid loss: 0.011 / 0.040 | Train/Valid accuracy: 0.989 / 0.960\n",
      " Epoch 87 | Train/Valid loss: 0.010 / 0.040 | Train/Valid accuracy: 0.990 / 0.960\n",
      " Epoch 88 | Train/Valid loss: 0.011 / 0.040 | Train/Valid accuracy: 0.989 / 0.960\n",
      " Epoch 89 | Train/Valid loss: 0.010 / 0.040 | Train/Valid accuracy: 0.990 / 0.960\n",
      " Epoch 90 | Train/Valid loss: 0.010 / 0.040 | Train/Valid accuracy: 0.990 / 0.960\n",
      " Epoch 91 | Train/Valid loss: 0.010 / 0.040 | Train/Valid accuracy: 0.990 / 0.960\n",
      " Epoch 92 | Train/Valid loss: 0.011 / 0.040 | Train/Valid accuracy: 0.989 / 0.960\n",
      " Epoch 93 | Train/Valid loss: 0.010 / 0.041 | Train/Valid accuracy: 0.990 / 0.959\n",
      " Epoch 94 | Train/Valid loss: 0.010 / 0.041 | Train/Valid accuracy: 0.990 / 0.959\n",
      " Epoch 95 | Train/Valid loss: 0.010 / 0.040 | Train/Valid accuracy: 0.990 / 0.960\n",
      " Epoch 96 | Train/Valid loss: 0.010 / 0.042 | Train/Valid accuracy: 0.990 / 0.958\n",
      " Epoch 97 | Train/Valid loss: 0.010 / 0.040 | Train/Valid accuracy: 0.990 / 0.960\n",
      " Epoch 98 | Train/Valid loss: 0.010 / 0.040 | Train/Valid accuracy: 0.990 / 0.960\n",
      " Epoch 99 | Train/Valid loss: 0.010 / 0.039 | Train/Valid accuracy: 0.990 / 0.961\n"
     ]
    }
   ],
   "source": [
    "# Mini-Batch\n",
    "\n",
    "train_loss_by_epoch=[]\n",
    "valid_loss_by_epoch=[]\n",
    "\n",
    "for epoch in range(EPOCHS):\n",
    "  ############################################\n",
    "  ## Training\n",
    "  ############################################\n",
    "  nnnetWithEmbeddings.train(True)\n",
    "\n",
    "  epoch_loss = 0\n",
    "  epoch_y_hat = []\n",
    "  epoch_y = []\n",
    "\n",
    "  for i, data in enumerate(train_dataloader_emb):\n",
    "    movie_embed_batch, user_embed_batch, y_batch = data\n",
    "    movie_embed_batch = movie_embed_batch.to(device).int()\n",
    "    user_embed_batch = user_embed_batch.to(device).int()\n",
    "    y_batch = y_batch.to(device).float().reshape(-1, 1)\n",
    "\n",
    "    optimizer.zero_grad()\n",
    "    nnet_output = nnnetWithEmbeddings(movie_embed_batch, user_embed_batch)\n",
    "    y_batch_hat = nnet_output\n",
    "\n",
    "\n",
    "    loss = loss_function(nnet_output, y_batch)\n",
    "    loss.backward()\n",
    "    optimizer.step()\n",
    "\n",
    "    epoch_y += list(y_batch.detach().cpu().numpy())\n",
    "    epoch_y_hat += list(y_batch_hat.detach().cpu().numpy())\n",
    "\n",
    "    epoch_loss = epoch_loss + loss.item()\n",
    "\n",
    "  epoch_loss = epoch_loss / n_train\n",
    "  train_loss_by_epoch.append(epoch_loss)\n",
    "  accuracy = 1 - metrics.mean_squared_error(epoch_y, epoch_y_hat)\n",
    "\n",
    "  ############################################\n",
    "  ## Validation\n",
    "  ############################################\n",
    "  nnnetWithEmbeddings.train(False)\n",
    "\n",
    "  valid_epoch_loss = 0\n",
    "  valid_epoch_y_hat = []\n",
    "  valid_epoch_y = []\n",
    "\n",
    "  for i,data in enumerate(valid_dataloader_emb):\n",
    "    movie_embed_batch, user_embed_batch, y_batch = data\n",
    "    movie_embed_batch = movie_embed_batch.to(device).int()\n",
    "    user_embed_batch = user_embed_batch.to(device).int()\n",
    "    y_batch = y_batch.to(device).float().reshape(-1, 1)\n",
    "\n",
    "    nnet_output = nnnetWithEmbeddings(movie_embed_batch, user_embed_batch)\n",
    "    y_batch_hat = nnet_output\n",
    "\n",
    "\n",
    "    loss = loss_function(nnet_output, y_batch)\n",
    "\n",
    "    valid_epoch_y += list(y_batch.detach().cpu().numpy())\n",
    "    valid_epoch_y_hat += list(y_batch_hat.detach().cpu().numpy())\n",
    "    valid_epoch_loss = valid_epoch_loss + loss.item()\n",
    "\n",
    "  valid_epoch_loss = valid_epoch_loss / n_valid\n",
    "  valid_loss_by_epoch.append(valid_epoch_loss)\n",
    "  valid_accuracy = 1 - metrics.mean_squared_error(valid_epoch_y, valid_epoch_y_hat)\n",
    "\n",
    "  print(f\" Epoch {epoch} | \" \\\n",
    "        f\"Train/Valid loss: {epoch_loss:.3f} / {valid_epoch_loss:.3f} | \" \\\n",
    "        f\"Train/Valid accuracy: {accuracy:.3f} / {valid_accuracy:.3f}\")"
   ],
   "metadata": {
    "collapsed": false,
    "ExecuteTime": {
     "end_time": "2023-06-20T17:28:39.095166600Z",
     "start_time": "2023-06-20T17:28:01.318229400Z"
    }
   }
  },
  {
   "cell_type": "markdown",
   "source": [
    "# Punto 3"
   ],
   "metadata": {
    "collapsed": false
   }
  },
  {
   "cell_type": "code",
   "execution_count": 375,
   "outputs": [
    {
     "name": "stdout",
     "output_type": "stream",
     "text": [
      "10\n",
      "6377\n"
     ]
    }
   ],
   "source": [
    "# For one random idx in validation dataset\n",
    "random_idx = np.random.randint(low=0, high=n_valid)\n",
    "print(valid_users[random_idx])\n",
    "print(valid_movies[random_idx])"
   ],
   "metadata": {
    "collapsed": false,
    "ExecuteTime": {
     "end_time": "2023-06-20T17:28:39.099078900Z",
     "start_time": "2023-06-20T17:28:39.095166600Z"
    }
   }
  },
  {
   "cell_type": "code",
   "execution_count": 376,
   "outputs": [
    {
     "data": {
      "text/plain": "261    0.666667\nName: rating, dtype: float64"
     },
     "execution_count": 376,
     "metadata": {},
     "output_type": "execute_result"
    }
   ],
   "source": [
    "user_movies = df.loc[df['userId'] == valid_users[random_idx]]\n",
    "user_movie_rating = user_movies.loc[user_movies['movieId'] == valid_movies[random_idx]]['rating']\n",
    "user_movie_rating_norm = (user_movie_rating - 0.5) / (5 - 0.5)\n",
    "\n",
    "user_movie_rating_norm"
   ],
   "metadata": {
    "collapsed": false,
    "ExecuteTime": {
     "end_time": "2023-06-20T17:28:39.105756800Z",
     "start_time": "2023-06-20T17:28:39.099078900Z"
    }
   }
  },
  {
   "cell_type": "code",
   "execution_count": 377,
   "outputs": [],
   "source": [
    "pred_movie_tensor = torch.tensor([movie_ids_to_idx[valid_movies[random_idx]]])\n",
    "pred_user_tensor = torch.tensor([user_ids_to_idx[valid_users[random_idx]]])"
   ],
   "metadata": {
    "collapsed": false,
    "ExecuteTime": {
     "end_time": "2023-06-20T17:28:39.109353100Z",
     "start_time": "2023-06-20T17:28:39.105756800Z"
    }
   }
  },
  {
   "cell_type": "code",
   "execution_count": 378,
   "outputs": [
    {
     "data": {
      "text/plain": "tensor([[0.6642]], grad_fn=<AddmmBackward0>)"
     },
     "execution_count": 378,
     "metadata": {},
     "output_type": "execute_result"
    }
   ],
   "source": [
    "nnnetWithEmbeddings(pred_movie_tensor, pred_user_tensor)"
   ],
   "metadata": {
    "collapsed": false,
    "ExecuteTime": {
     "end_time": "2023-06-20T17:28:39.116303200Z",
     "start_time": "2023-06-20T17:28:39.109353100Z"
    }
   }
  },
  {
   "cell_type": "markdown",
   "source": [
    "Puntaje asignado realmente (normalizado): 0.666667\n",
    "Puntaje predicho por el modelo (normalizado): 0.6642"
   ],
   "metadata": {
    "collapsed": false
   }
  },
  {
   "cell_type": "markdown",
   "source": [
    "# Punto 4"
   ],
   "metadata": {
    "collapsed": false
   }
  },
  {
   "cell_type": "code",
   "execution_count": 379,
   "outputs": [],
   "source": [
    "def get_user_embeddings_similarity(user_idx):\n",
    "    embeddings = list(nnnetWithEmbeddings.user_embeddings.parameters())[0].detach().cpu()\n",
    "\n",
    "    final = []\n",
    "    for i in range(len(embeddings)):\n",
    "      similarity = torch.cosine_similarity(embeddings[user_idx],\n",
    "                                           embeddings[i].view(1, -1)).item()\n",
    "      final.append(similarity)\n",
    "    return final\n",
    "\n",
    "def get_top_x_similar_embeddings(user_embeddings_similarity, user_idx, top_x):\n",
    "    most_similar_embeddings_idx = np.argpartition(user_embeddings_similarity, -(top_x+1))[-(top_x+1):]\n",
    "    if user_idx in most_similar_embeddings_idx:\n",
    "        most_similar_embeddings_idx = np.delete(most_similar_embeddings_idx, np.where(most_similar_embeddings_idx == user_idx))\n",
    "    return most_similar_embeddings_idx\n",
    "\n",
    "user_embeddings_similarity = get_user_embeddings_similarity(user_ids_to_idx[valid_users[random_idx]]\n",
    ")\n",
    "\n",
    "top10_similar_user_idx = (get_top_x_similar_embeddings(user_embeddings_similarity, user_ids_to_idx[valid_users[random_idx]], 10))"
   ],
   "metadata": {
    "collapsed": false,
    "ExecuteTime": {
     "end_time": "2023-06-20T17:28:39.180454800Z",
     "start_time": "2023-06-20T17:28:39.116303200Z"
    }
   }
  },
  {
   "cell_type": "code",
   "execution_count": 380,
   "outputs": [
    {
     "data": {
      "text/plain": "array([206, 125,  48, 131, 156,  51,  74, 107, 170, 120], dtype=int64)"
     },
     "execution_count": 380,
     "metadata": {},
     "output_type": "execute_result"
    }
   ],
   "source": [
    "top10_similar_user_idx"
   ],
   "metadata": {
    "collapsed": false,
    "ExecuteTime": {
     "end_time": "2023-06-20T17:28:39.186000700Z",
     "start_time": "2023-06-20T17:28:39.129106600Z"
    }
   }
  },
  {
   "cell_type": "code",
   "execution_count": 381,
   "outputs": [],
   "source": [
    "user_idx_to_user_id = {i: value for i, value in enumerate(valid_users.unique())}\n",
    "user_ids_to_compare = [user_idx_to_user_id[i] for i in top10_similar_user_idx]"
   ],
   "metadata": {
    "collapsed": false,
    "ExecuteTime": {
     "end_time": "2023-06-20T17:28:39.186000700Z",
     "start_time": "2023-06-20T17:28:39.132887700Z"
    }
   }
  },
  {
   "cell_type": "code",
   "execution_count": 382,
   "outputs": [
    {
     "data": {
      "text/plain": "[517, 306, 104, 314, 376, 111, 181, 265, 412, 294]"
     },
     "execution_count": 382,
     "metadata": {},
     "output_type": "execute_result"
    }
   ],
   "source": [
    "user_ids_to_compare"
   ],
   "metadata": {
    "collapsed": false,
    "ExecuteTime": {
     "end_time": "2023-06-20T17:28:39.186000700Z",
     "start_time": "2023-06-20T17:28:39.136785900Z"
    }
   }
  },
  {
   "cell_type": "code",
   "execution_count": 383,
   "outputs": [],
   "source": [
    "movie_ratings_mean = df[df['userId'].isin(user_ids_to_compare)].groupby('movieId')['rating'].agg('mean').to_frame('mean')\n",
    "best_rated_movies = movie_ratings_mean[movie_ratings_mean['mean'] >= 4]"
   ],
   "metadata": {
    "collapsed": false,
    "ExecuteTime": {
     "end_time": "2023-06-20T17:28:39.186000700Z",
     "start_time": "2023-06-20T17:28:39.140378400Z"
    }
   }
  },
  {
   "cell_type": "code",
   "execution_count": 384,
   "outputs": [],
   "source": [
    "movie_number_votes = df[df['userId'].isin(user_ids_to_compare)].groupby('movieId')['rating'].agg('count').to_frame('count')\n",
    "most_rated_movies = movie_number_votes[movie_number_votes['count'] >= 5].sort_values('count', ascending=False)"
   ],
   "metadata": {
    "collapsed": false,
    "ExecuteTime": {
     "end_time": "2023-06-20T17:28:39.186000700Z",
     "start_time": "2023-06-20T17:28:39.145510600Z"
    }
   }
  },
  {
   "cell_type": "code",
   "execution_count": 385,
   "outputs": [
    {
     "data": {
      "text/plain": "             mean\nmovieId          \n32       4.000000\n34       4.375000\n150      4.333333\n260      4.250000\n292      4.250000\n318      4.375000\n339      4.000000\n356      4.285714\n364      4.000000\n454      4.500000\n527      4.375000\n541      4.500000\n589      4.666667\n608      4.000000\n648      4.000000\n904      5.000000\n912      4.000000\n924      5.000000\n1196     4.333333\n1197     4.125000\n1198     4.333333\n1220     4.000000\n1221     4.500000\n1240     4.500000\n1258     4.000000\n1307     4.500000\n1387     4.000000\n1732     5.000000\n2012     4.750000\n2797     4.000000\n2959     5.000000\n3147     4.000000\n3793     5.000000\n3897     4.000000\n4022     4.000000\n4226     4.166667\n4878     4.000000\n4896     4.250000\n4973     4.166667\n4995     4.000000\n5378     4.500000\n5816     4.166667\n6377     4.000000\n8368     4.166667\n48516    4.500000\n48780    4.250000\n58559    4.000000\n68954    4.250000\n79132    4.250000",
      "text/html": "<div>\n<style scoped>\n    .dataframe tbody tr th:only-of-type {\n        vertical-align: middle;\n    }\n\n    .dataframe tbody tr th {\n        vertical-align: top;\n    }\n\n    .dataframe thead th {\n        text-align: right;\n    }\n</style>\n<table border=\"1\" class=\"dataframe\">\n  <thead>\n    <tr style=\"text-align: right;\">\n      <th></th>\n      <th>mean</th>\n    </tr>\n    <tr>\n      <th>movieId</th>\n      <th></th>\n    </tr>\n  </thead>\n  <tbody>\n    <tr>\n      <th>32</th>\n      <td>4.000000</td>\n    </tr>\n    <tr>\n      <th>34</th>\n      <td>4.375000</td>\n    </tr>\n    <tr>\n      <th>150</th>\n      <td>4.333333</td>\n    </tr>\n    <tr>\n      <th>260</th>\n      <td>4.250000</td>\n    </tr>\n    <tr>\n      <th>292</th>\n      <td>4.250000</td>\n    </tr>\n    <tr>\n      <th>318</th>\n      <td>4.375000</td>\n    </tr>\n    <tr>\n      <th>339</th>\n      <td>4.000000</td>\n    </tr>\n    <tr>\n      <th>356</th>\n      <td>4.285714</td>\n    </tr>\n    <tr>\n      <th>364</th>\n      <td>4.000000</td>\n    </tr>\n    <tr>\n      <th>454</th>\n      <td>4.500000</td>\n    </tr>\n    <tr>\n      <th>527</th>\n      <td>4.375000</td>\n    </tr>\n    <tr>\n      <th>541</th>\n      <td>4.500000</td>\n    </tr>\n    <tr>\n      <th>589</th>\n      <td>4.666667</td>\n    </tr>\n    <tr>\n      <th>608</th>\n      <td>4.000000</td>\n    </tr>\n    <tr>\n      <th>648</th>\n      <td>4.000000</td>\n    </tr>\n    <tr>\n      <th>904</th>\n      <td>5.000000</td>\n    </tr>\n    <tr>\n      <th>912</th>\n      <td>4.000000</td>\n    </tr>\n    <tr>\n      <th>924</th>\n      <td>5.000000</td>\n    </tr>\n    <tr>\n      <th>1196</th>\n      <td>4.333333</td>\n    </tr>\n    <tr>\n      <th>1197</th>\n      <td>4.125000</td>\n    </tr>\n    <tr>\n      <th>1198</th>\n      <td>4.333333</td>\n    </tr>\n    <tr>\n      <th>1220</th>\n      <td>4.000000</td>\n    </tr>\n    <tr>\n      <th>1221</th>\n      <td>4.500000</td>\n    </tr>\n    <tr>\n      <th>1240</th>\n      <td>4.500000</td>\n    </tr>\n    <tr>\n      <th>1258</th>\n      <td>4.000000</td>\n    </tr>\n    <tr>\n      <th>1307</th>\n      <td>4.500000</td>\n    </tr>\n    <tr>\n      <th>1387</th>\n      <td>4.000000</td>\n    </tr>\n    <tr>\n      <th>1732</th>\n      <td>5.000000</td>\n    </tr>\n    <tr>\n      <th>2012</th>\n      <td>4.750000</td>\n    </tr>\n    <tr>\n      <th>2797</th>\n      <td>4.000000</td>\n    </tr>\n    <tr>\n      <th>2959</th>\n      <td>5.000000</td>\n    </tr>\n    <tr>\n      <th>3147</th>\n      <td>4.000000</td>\n    </tr>\n    <tr>\n      <th>3793</th>\n      <td>5.000000</td>\n    </tr>\n    <tr>\n      <th>3897</th>\n      <td>4.000000</td>\n    </tr>\n    <tr>\n      <th>4022</th>\n      <td>4.000000</td>\n    </tr>\n    <tr>\n      <th>4226</th>\n      <td>4.166667</td>\n    </tr>\n    <tr>\n      <th>4878</th>\n      <td>4.000000</td>\n    </tr>\n    <tr>\n      <th>4896</th>\n      <td>4.250000</td>\n    </tr>\n    <tr>\n      <th>4973</th>\n      <td>4.166667</td>\n    </tr>\n    <tr>\n      <th>4995</th>\n      <td>4.000000</td>\n    </tr>\n    <tr>\n      <th>5378</th>\n      <td>4.500000</td>\n    </tr>\n    <tr>\n      <th>5816</th>\n      <td>4.166667</td>\n    </tr>\n    <tr>\n      <th>6377</th>\n      <td>4.000000</td>\n    </tr>\n    <tr>\n      <th>8368</th>\n      <td>4.166667</td>\n    </tr>\n    <tr>\n      <th>48516</th>\n      <td>4.500000</td>\n    </tr>\n    <tr>\n      <th>48780</th>\n      <td>4.250000</td>\n    </tr>\n    <tr>\n      <th>58559</th>\n      <td>4.000000</td>\n    </tr>\n    <tr>\n      <th>68954</th>\n      <td>4.250000</td>\n    </tr>\n    <tr>\n      <th>79132</th>\n      <td>4.250000</td>\n    </tr>\n  </tbody>\n</table>\n</div>"
     },
     "execution_count": 385,
     "metadata": {},
     "output_type": "execute_result"
    }
   ],
   "source": [
    "best_rated_movies"
   ],
   "metadata": {
    "collapsed": false,
    "ExecuteTime": {
     "end_time": "2023-06-20T17:28:39.186000700Z",
     "start_time": "2023-06-20T17:28:39.150834300Z"
    }
   }
  },
  {
   "cell_type": "code",
   "execution_count": 386,
   "outputs": [
    {
     "data": {
      "text/plain": "         count\nmovieId       \n356          7\n10           6\n480          6\n1580         6\n597          6\n593          6\n592          6\n539          6\n500          6\n588          6\n110          6\n260          6\n47           6\n780          5\n2987         5\n2858         5\n2683         5\n2628         5\n2571         5\n1270         5\n457          5\n367          5\n595          5\n349          5\n590          5\n39           5\n587          5\n357          5\n4306         5",
      "text/html": "<div>\n<style scoped>\n    .dataframe tbody tr th:only-of-type {\n        vertical-align: middle;\n    }\n\n    .dataframe tbody tr th {\n        vertical-align: top;\n    }\n\n    .dataframe thead th {\n        text-align: right;\n    }\n</style>\n<table border=\"1\" class=\"dataframe\">\n  <thead>\n    <tr style=\"text-align: right;\">\n      <th></th>\n      <th>count</th>\n    </tr>\n    <tr>\n      <th>movieId</th>\n      <th></th>\n    </tr>\n  </thead>\n  <tbody>\n    <tr>\n      <th>356</th>\n      <td>7</td>\n    </tr>\n    <tr>\n      <th>10</th>\n      <td>6</td>\n    </tr>\n    <tr>\n      <th>480</th>\n      <td>6</td>\n    </tr>\n    <tr>\n      <th>1580</th>\n      <td>6</td>\n    </tr>\n    <tr>\n      <th>597</th>\n      <td>6</td>\n    </tr>\n    <tr>\n      <th>593</th>\n      <td>6</td>\n    </tr>\n    <tr>\n      <th>592</th>\n      <td>6</td>\n    </tr>\n    <tr>\n      <th>539</th>\n      <td>6</td>\n    </tr>\n    <tr>\n      <th>500</th>\n      <td>6</td>\n    </tr>\n    <tr>\n      <th>588</th>\n      <td>6</td>\n    </tr>\n    <tr>\n      <th>110</th>\n      <td>6</td>\n    </tr>\n    <tr>\n      <th>260</th>\n      <td>6</td>\n    </tr>\n    <tr>\n      <th>47</th>\n      <td>6</td>\n    </tr>\n    <tr>\n      <th>780</th>\n      <td>5</td>\n    </tr>\n    <tr>\n      <th>2987</th>\n      <td>5</td>\n    </tr>\n    <tr>\n      <th>2858</th>\n      <td>5</td>\n    </tr>\n    <tr>\n      <th>2683</th>\n      <td>5</td>\n    </tr>\n    <tr>\n      <th>2628</th>\n      <td>5</td>\n    </tr>\n    <tr>\n      <th>2571</th>\n      <td>5</td>\n    </tr>\n    <tr>\n      <th>1270</th>\n      <td>5</td>\n    </tr>\n    <tr>\n      <th>457</th>\n      <td>5</td>\n    </tr>\n    <tr>\n      <th>367</th>\n      <td>5</td>\n    </tr>\n    <tr>\n      <th>595</th>\n      <td>5</td>\n    </tr>\n    <tr>\n      <th>349</th>\n      <td>5</td>\n    </tr>\n    <tr>\n      <th>590</th>\n      <td>5</td>\n    </tr>\n    <tr>\n      <th>39</th>\n      <td>5</td>\n    </tr>\n    <tr>\n      <th>587</th>\n      <td>5</td>\n    </tr>\n    <tr>\n      <th>357</th>\n      <td>5</td>\n    </tr>\n    <tr>\n      <th>4306</th>\n      <td>5</td>\n    </tr>\n  </tbody>\n</table>\n</div>"
     },
     "execution_count": 386,
     "metadata": {},
     "output_type": "execute_result"
    }
   ],
   "source": [
    "most_rated_movies"
   ],
   "metadata": {
    "collapsed": false,
    "ExecuteTime": {
     "end_time": "2023-06-20T17:28:39.186000700Z",
     "start_time": "2023-06-20T17:28:39.157113200Z"
    }
   }
  },
  {
   "cell_type": "code",
   "execution_count": 387,
   "outputs": [],
   "source": [
    "movies_to_recommend = pd.concat([best_rated_movies, most_rated_movies], axis=1, join='inner').sort_values('mean', ascending=False)"
   ],
   "metadata": {
    "collapsed": false,
    "ExecuteTime": {
     "end_time": "2023-06-20T17:28:39.186000700Z",
     "start_time": "2023-06-20T17:28:39.162485200Z"
    }
   }
  },
  {
   "cell_type": "code",
   "execution_count": 388,
   "outputs": [
    {
     "data": {
      "text/plain": "             mean  count\nmovieId                 \n356      4.285714      7\n260      4.250000      6",
      "text/html": "<div>\n<style scoped>\n    .dataframe tbody tr th:only-of-type {\n        vertical-align: middle;\n    }\n\n    .dataframe tbody tr th {\n        vertical-align: top;\n    }\n\n    .dataframe thead th {\n        text-align: right;\n    }\n</style>\n<table border=\"1\" class=\"dataframe\">\n  <thead>\n    <tr style=\"text-align: right;\">\n      <th></th>\n      <th>mean</th>\n      <th>count</th>\n    </tr>\n    <tr>\n      <th>movieId</th>\n      <th></th>\n      <th></th>\n    </tr>\n  </thead>\n  <tbody>\n    <tr>\n      <th>356</th>\n      <td>4.285714</td>\n      <td>7</td>\n    </tr>\n    <tr>\n      <th>260</th>\n      <td>4.250000</td>\n      <td>6</td>\n    </tr>\n  </tbody>\n</table>\n</div>"
     },
     "execution_count": 388,
     "metadata": {},
     "output_type": "execute_result"
    }
   ],
   "source": [
    "movies_to_recommend"
   ],
   "metadata": {
    "collapsed": false,
    "ExecuteTime": {
     "end_time": "2023-06-20T17:28:39.186000700Z",
     "start_time": "2023-06-20T17:28:39.166782800Z"
    }
   }
  },
  {
   "cell_type": "code",
   "execution_count": 389,
   "outputs": [],
   "source": [
    "movies_to_recommend_ids = movies_to_recommend.index\n",
    "movies_to_recommend_idx = [movie_ids_to_idx[i] for i in movies_to_recommend_ids]"
   ],
   "metadata": {
    "collapsed": false,
    "ExecuteTime": {
     "end_time": "2023-06-20T17:28:39.186000700Z",
     "start_time": "2023-06-20T17:28:39.180454800Z"
    }
   }
  },
  {
   "cell_type": "code",
   "execution_count": 390,
   "outputs": [
    {
     "data": {
      "text/plain": "[11, 7]"
     },
     "execution_count": 390,
     "metadata": {},
     "output_type": "execute_result"
    }
   ],
   "source": [
    "movies_to_recommend_idx"
   ],
   "metadata": {
    "collapsed": false,
    "ExecuteTime": {
     "end_time": "2023-06-20T17:28:39.186000700Z",
     "start_time": "2023-06-20T17:28:39.180958300Z"
    }
   }
  },
  {
   "cell_type": "code",
   "execution_count": 391,
   "outputs": [
    {
     "name": "stdout",
     "output_type": "stream",
     "text": [
      "movie_id: 356, movie_idx: 11, user_idx: 4, norm pred_rating: 0.642\n",
      "movie_id: 260, movie_idx: 7, user_idx: 4, norm pred_rating: 0.853\n"
     ]
    }
   ],
   "source": [
    "for i, movie_idx in enumerate(movies_to_recommend_idx):\n",
    "    pred_movie_tensor = torch.tensor([movie_idx])\n",
    "    pred_user_tensor = torch.tensor([user_ids_to_idx[valid_users[random_idx]]])\n",
    "    output = nnnetWithEmbeddings(pred_user_tensor, pred_movie_tensor)\n",
    "    print(f'movie_id: {movies_to_recommend_ids[i]}, '\n",
    "          f'movie_idx: {movie_idx}, '\n",
    "          f'user_idx: {user_ids_to_idx[valid_users[random_idx]]}, '\n",
    "          f'norm pred_rating: {output[0][0]:.3f}')"
   ],
   "metadata": {
    "collapsed": false,
    "ExecuteTime": {
     "end_time": "2023-06-20T17:28:39.186000700Z",
     "start_time": "2023-06-20T17:28:39.180958300Z"
    }
   }
  },
  {
   "cell_type": "markdown",
   "source": [
    "Let's check if the user has already rated one of those movies to compare it"
   ],
   "metadata": {
    "collapsed": false
   }
  },
  {
   "cell_type": "code",
   "execution_count": 392,
   "outputs": [
    {
     "name": "stderr",
     "output_type": "stream",
     "text": [
      "C:\\Users\\Usuario\\AppData\\Local\\Temp\\ipykernel_11104\\1138275041.py:3: SettingWithCopyWarning: \n",
      "A value is trying to be set on a copy of a slice from a DataFrame.\n",
      "Try using .loc[row_indexer,col_indexer] = value instead\n",
      "\n",
      "See the caveats in the documentation: https://pandas.pydata.org/pandas-docs/stable/user_guide/indexing.html#returning-a-view-versus-a-copy\n",
      "  user_movie_rating['norm_rating'] = user_movie_rating.apply(lambda row: (row['rating'] - 0.5) / (5 - 0.5), axis=1)\n"
     ]
    },
    {
     "data": {
      "text/plain": "     userId  movieId  rating  norm_rating\n246      10      356     3.5     0.666667",
      "text/html": "<div>\n<style scoped>\n    .dataframe tbody tr th:only-of-type {\n        vertical-align: middle;\n    }\n\n    .dataframe tbody tr th {\n        vertical-align: top;\n    }\n\n    .dataframe thead th {\n        text-align: right;\n    }\n</style>\n<table border=\"1\" class=\"dataframe\">\n  <thead>\n    <tr style=\"text-align: right;\">\n      <th></th>\n      <th>userId</th>\n      <th>movieId</th>\n      <th>rating</th>\n      <th>norm_rating</th>\n    </tr>\n  </thead>\n  <tbody>\n    <tr>\n      <th>246</th>\n      <td>10</td>\n      <td>356</td>\n      <td>3.5</td>\n      <td>0.666667</td>\n    </tr>\n  </tbody>\n</table>\n</div>"
     },
     "execution_count": 392,
     "metadata": {},
     "output_type": "execute_result"
    }
   ],
   "source": [
    "user_movies = df.loc[df['userId'] == valid_users[random_idx]]\n",
    "user_movie_rating = user_movies.loc[user_movies['movieId'].isin(movies_to_recommend_ids)]\n",
    "user_movie_rating['norm_rating'] = user_movie_rating.apply(lambda row: (row['rating'] - 0.5) / (5 - 0.5), axis=1)\n",
    "\n",
    "user_movie_rating.drop(['index', 'timestamp'], axis=1)"
   ],
   "metadata": {
    "collapsed": false,
    "ExecuteTime": {
     "end_time": "2023-06-20T17:28:39.197374100Z",
     "start_time": "2023-06-20T17:28:39.186000700Z"
    }
   }
  },
  {
   "cell_type": "markdown",
   "source": [
    "User has already seen movieId=356 and rated with 0.666667. Our model predicted that the user would have rated it as 0.642"
   ],
   "metadata": {
    "collapsed": false
   }
  },
  {
   "cell_type": "markdown",
   "source": [
    "We can recommend him the movieId=260 and expect a rating ~= 0.853"
   ],
   "metadata": {
    "collapsed": false
   }
  }
 ]
}
